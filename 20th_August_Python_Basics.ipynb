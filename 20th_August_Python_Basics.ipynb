{
 "cells": [
  {
   "cell_type": "markdown",
   "id": "cacca511",
   "metadata": {},
   "source": [
    "# TOPIC: String Based Assignment Problem"
   ]
  },
  {
   "cell_type": "markdown",
   "id": "277c0a2a",
   "metadata": {},
   "source": [
    "1. Write a program to reverse a string."
   ]
  },
  {
   "cell_type": "code",
   "execution_count": 26,
   "id": "237193f3",
   "metadata": {},
   "outputs": [
    {
     "name": "stdout",
     "output_type": "stream",
     "text": [
      "Enter your string: Rudra\n",
      "Your string convert into reverse: arduR\n"
     ]
    }
   ],
   "source": [
    "string=input(\"Enter your string: \")\n",
    "reverse=string[::-1]\n",
    "print(\"Your string convert into reverse:\",reverse)"
   ]
  },
  {
   "cell_type": "markdown",
   "id": "4e3c061d",
   "metadata": {},
   "source": [
    "2. Check if a string is a palindrome."
   ]
  },
  {
   "cell_type": "code",
   "execution_count": 21,
   "id": "0ecb4b75",
   "metadata": {},
   "outputs": [
    {
     "name": "stdout",
     "output_type": "stream",
     "text": [
      "Enter your string: Rudra\n",
      "Rudra is not a palindrom\n"
     ]
    }
   ],
   "source": [
    "def a_palindrom(s):\n",
    "    return s==s[::-1]\n",
    "str=input(\"Enter your string: \")\n",
    "if a_palindrom(str):\n",
    "    print(str,\"is a palindrom\")\n",
    "else:\n",
    "    print(str,\"is not a palindrom\")"
   ]
  },
  {
   "cell_type": "markdown",
   "id": "c80a4c3c",
   "metadata": {},
   "source": [
    "3. Convert a string to uppercase."
   ]
  },
  {
   "cell_type": "code",
   "execution_count": 23,
   "id": "9ff73434",
   "metadata": {},
   "outputs": [
    {
     "name": "stdout",
     "output_type": "stream",
     "text": [
      "Enter the string:pwskills\n",
      "Your word convert in uppercase: PWSKILLS\n"
     ]
    }
   ],
   "source": [
    "string=input(\"Enter the string:\")\n",
    "uppercase=string.upper()\n",
    "print(\"Your word convert in uppercase:\",uppercase)"
   ]
  },
  {
   "cell_type": "markdown",
   "id": "1d66be35",
   "metadata": {},
   "source": [
    "4. Convert a string to lowercase."
   ]
  },
  {
   "cell_type": "code",
   "execution_count": 25,
   "id": "97164758",
   "metadata": {},
   "outputs": [
    {
     "name": "stdout",
     "output_type": "stream",
     "text": [
      "Enter the string:PWSkILLS\n",
      "Your word convert into lowecase pwskills\n"
     ]
    }
   ],
   "source": [
    "string=input(\"Enter the string:\")\n",
    "lowercase=string.lower()\n",
    "print(\"Your word convert into lowecase\", lowercase)"
   ]
  },
  {
   "cell_type": "markdown",
   "id": "7c0f3d62",
   "metadata": {},
   "source": [
    "5. Count the number of vowels in a string."
   ]
  },
  {
   "cell_type": "code",
   "execution_count": 4,
   "id": "62af0015",
   "metadata": {},
   "outputs": [
    {
     "name": "stdout",
     "output_type": "stream",
     "text": [
      "Enter the sentence:HYPOCRITE\n",
      "Number of Volwes: 3\n"
     ]
    }
   ],
   "source": [
    "sentence=input(\"Enter the sentence:\")\n",
    "vowles=\"aeiouAEIOU\"\n",
    "vowle_count=0\n",
    "for charecter in sentence:\n",
    "    if charecter in vowles:\n",
    "        vowle_count+=1\n",
    "print(\"Number of Volwes:\",vowle_count)"
   ]
  },
  {
   "cell_type": "markdown",
   "id": "adafaa90",
   "metadata": {},
   "source": [
    "6. Count the number of consonants in a string."
   ]
  },
  {
   "cell_type": "code",
   "execution_count": 14,
   "id": "2b3be301",
   "metadata": {},
   "outputs": [
    {
     "name": "stdout",
     "output_type": "stream",
     "text": [
      "Enter the sentence:HYPOCRITE\n",
      "Number of Volwes: 6\n"
     ]
    }
   ],
   "source": [
    "sentence=input(\"Enter the sentence:\")\n",
    "vowles=\"aeiouAEIOU\"\n",
    "consonants_count=0\n",
    "for charecter in sentence:\n",
    "    if charecter.isalpha() and charecter not in vowles:\n",
    "        consonants_count+=1\n",
    "print(\"Number of Volwes:\",consonants_count)"
   ]
  },
  {
   "cell_type": "markdown",
   "id": "a066c37e",
   "metadata": {},
   "source": [
    "7. Remove all whitespaces from a string."
   ]
  },
  {
   "cell_type": "code",
   "execution_count": 28,
   "id": "47ef8f04",
   "metadata": {},
   "outputs": [
    {
     "name": "stdout",
     "output_type": "stream",
     "text": [
      "Enter the string:Pw Skills\n",
      "Your string without space: PwSkills\n"
     ]
    }
   ],
   "source": [
    "string=input(\"Enter the string:\")\n",
    "remove_whitespace=string.replace(\" \",\"\")\n",
    "print(\"Your string without space:\", remove_whitespace)"
   ]
  },
  {
   "cell_type": "markdown",
   "id": "12de09de",
   "metadata": {},
   "source": [
    "8. Find the length of a string without using the `len()` function.\n"
   ]
  },
  {
   "cell_type": "code",
   "execution_count": 3,
   "id": "3d43410c",
   "metadata": {},
   "outputs": [
    {
     "name": "stdout",
     "output_type": "stream",
     "text": [
      "Enter your string for find the length: Rudra Chakraborty\n",
      "Length of the string : 17\n"
     ]
    }
   ],
   "source": [
    "def findlength(input_str):\n",
    "    count=0\n",
    "    for char in input_str:\n",
    "        count+=1\n",
    "    return count\n",
    "\n",
    "my_string=input(\"Enter your string for find the length: \")\n",
    "length= findlength(my_string)\n",
    "print(\"Length of the string :\",length)"
   ]
  },
  {
   "cell_type": "markdown",
   "id": "85979271",
   "metadata": {},
   "source": [
    "9. Check if a string contains a specific word."
   ]
  },
  {
   "cell_type": "code",
   "execution_count": 3,
   "id": "7af83226",
   "metadata": {},
   "outputs": [
    {
     "name": "stdout",
     "output_type": "stream",
     "text": [
      "Enter your string: The Quick Brown Fox Jumps Over The Lazy Dog\n",
      "You want to checkquick\n",
      "\"quick\"\n"
     ]
    }
   ],
   "source": [
    "def contains_word(string,specific_word):\n",
    "    return string in specific_word\n",
    "\n",
    "my_string=input(\"Enter your string: \")\n",
    "word_to_check=input(\"You want to check:\")\n",
    "\n",
    "if contains_word(my_string,word_to_check):\n",
    "    print(f'\"{word_to_check}\"')\n",
    "else:\n",
    "    print(f'\"{word_to_check}\"')"
   ]
  },
  {
   "cell_type": "markdown",
   "id": "22206bc6",
   "metadata": {},
   "source": [
    "10. Replace a word in a string with another word."
   ]
  },
  {
   "cell_type": "code",
   "execution_count": 1,
   "id": "46f0e344",
   "metadata": {},
   "outputs": [
    {
     "name": "stdout",
     "output_type": "stream",
     "text": [
      "Enter the sentence: Iraq was governed by man with absolute power when Saddam Hussain was the President\n",
      "Enter the word you want to change: man with absolute power\n",
      "Enter the new word: autocary\n",
      "Your new sentence is: Iraq was governed by autocary when Saddam Hussain was the President\n"
     ]
    }
   ],
   "source": [
    "sentence=input(\"Enter the sentence: \")\n",
    "old_word=input(\"Enter the word you want to change: \")\n",
    "replace_word=input(\"Enter the new word: \")\n",
    "replace=sentence.replace(old_word,replace_word)\n",
    "print(\"Your new sentence is:\",replace)"
   ]
  },
  {
   "cell_type": "markdown",
   "id": "e1fb0839",
   "metadata": {},
   "source": [
    "11. Count the occurrences of a word in a string."
   ]
  },
  {
   "cell_type": "code",
   "execution_count": 15,
   "id": "e71e205a",
   "metadata": {},
   "outputs": [
    {
     "name": "stdout",
     "output_type": "stream",
     "text": [
      "Enter the sentence:Iraq was governed by man with absolute power when Saddam Hussain was the President\n",
      "Enter the word you want to count:power\n",
      "The word 'power' appears 1 times in the input string.\n"
     ]
    }
   ],
   "source": [
    "def count_words(sentence,words_count):\n",
    "    wordcount=0\n",
    "    words=sentence.split()\n",
    "    for word in words:\n",
    "        if word==words_count:\n",
    "            wordcount+=1\n",
    "    return wordcount\n",
    "sentence=input(\"Enter the sentence:\")\n",
    "words_count=input(\"Enter the word you want to count:\")\n",
    "result=count_words(sentence,words_count)\n",
    "print(f\"The word '{words_count}' appears {result} times in the input string.\")"
   ]
  },
  {
   "cell_type": "markdown",
   "id": "58c39938",
   "metadata": {},
   "source": [
    "12. Find the first occurrence of a word in a string."
   ]
  },
  {
   "cell_type": "code",
   "execution_count": 1,
   "id": "ee2d7523",
   "metadata": {},
   "outputs": [
    {
     "name": "stdout",
     "output_type": "stream",
     "text": [
      "The first occurrence of a word in a string None\n"
     ]
    }
   ],
   "source": [
    "def first_occurrence(sentence,first_count):\n",
    "    index=sentence.find(first_count)\n",
    "    if index==-1:\n",
    "        return None\n",
    "    return index\n",
    "sentence=input(\"Enter the sentence:\")\n",
    "first_count=input(\"Enter the word you want to count:\")\n",
    "result=first_occurrence(sentence,first_count)\n",
    "print(\"The first occurrence of a word in a string\",result)"
   ]
  },
  {
   "cell_type": "markdown",
   "id": "7dd52869",
   "metadata": {},
   "source": [
    "13. Find the last occurrence of a word in a string."
   ]
  },
  {
   "cell_type": "code",
   "execution_count": 31,
   "id": "f77dffc5",
   "metadata": {},
   "outputs": [
    {
     "name": "stdout",
     "output_type": "stream",
     "text": [
      "Enter the sentence:Iraq was governed by man with absolute power when Saddam Hussain was the President\n",
      "Enter the word you want to count:was\n",
      "The last occurrence of a word in a string 65\n"
     ]
    }
   ],
   "source": [
    "def last_occurrance(sentence,last_count):\n",
    "    index=sentence.rfind(last_count)\n",
    "    if index==-1:\n",
    "        return None\n",
    "    return index\n",
    "sentence=input(\"Enter the sentence:\")\n",
    "last_count=input(\"Enter the word you want to count:\")\n",
    "result=last_occurrance(sentence,last_count)\n",
    "print(\"The last occurrence of a word in a string\",result)"
   ]
  },
  {
   "cell_type": "markdown",
   "id": "8f46b73c",
   "metadata": {},
   "source": [
    "14. Split a string into a list of words."
   ]
  },
  {
   "cell_type": "code",
   "execution_count": 6,
   "id": "9856adaa",
   "metadata": {},
   "outputs": [
    {
     "name": "stdout",
     "output_type": "stream",
     "text": [
      "Enter the word:Rudra Chakraborty\n",
      "['Rudra', 'Chakraborty']\n"
     ]
    }
   ],
   "source": [
    "string=input(\"Enter the word:\")\n",
    "result=string.split()\n",
    "print(result)"
   ]
  },
  {
   "cell_type": "markdown",
   "id": "561d40e6",
   "metadata": {},
   "source": [
    "15. Join a list of words into a string."
   ]
  },
  {
   "cell_type": "code",
   "execution_count": 2,
   "id": "351fd37c",
   "metadata": {},
   "outputs": [
    {
     "name": "stdout",
     "output_type": "stream",
     "text": [
      "Python DSA SQL\n"
     ]
    }
   ],
   "source": [
    "word=[\"Python\",\"DSA\",\"SQL\"]\n",
    "result=\" \".join(word)\n",
    "print(result)"
   ]
  },
  {
   "cell_type": "markdown",
   "id": "775e1761",
   "metadata": {},
   "source": [
    "16. Convert a string where words are separated by spaces to one where words are separated by underscores."
   ]
  },
  {
   "cell_type": "code",
   "execution_count": 18,
   "id": "1fdbfe5c",
   "metadata": {},
   "outputs": [
    {
     "name": "stdout",
     "output_type": "stream",
     "text": [
      "Your string space replace with underscore The_quick_brown_fox_jumps_over_the_lazy_dog\n"
     ]
    }
   ],
   "source": [
    "def convert_space_to_underscore(input_string):\n",
    "    output_string=input_string.replace(\" \",\"_\")\n",
    "    return output_string\n",
    "input_string=input(\"Enter your string:\")\n",
    "result= convert_space_to_underscore(input_string)\n",
    "print(\"Your string space replace with underscore\",result)"
   ]
  },
  {
   "cell_type": "markdown",
   "id": "3735fc43",
   "metadata": {},
   "source": [
    "17. Check if a string starts with a specific word or phrase."
   ]
  },
  {
   "cell_type": "code",
   "execution_count": 19,
   "id": "660514a2",
   "metadata": {},
   "outputs": [
    {
     "name": "stdout",
     "output_type": "stream",
     "text": [
      "The phrase starting with'The'.\n"
     ]
    }
   ],
   "source": [
    "def starts_with_phrase(input_string, phrase):\n",
    "    return input_string.startswith(phrase)\n",
    "\n",
    "input_string=input(\"Enter the string\")\n",
    "check_phrase=\"The\"\n",
    "\n",
    "if starts_with_phrase(input_string,check_phrase):\n",
    "    print(f\"The phrase starting with'{check_phrase}'.\")\n",
    "else:\n",
    "    print(f\"The phrase dose't starting with'{check_phrase}'.\")"
   ]
  },
  {
   "cell_type": "markdown",
   "id": "4fd5d1bb",
   "metadata": {},
   "source": [
    "18. Check if a string ends with a specific word or phrase."
   ]
  },
  {
   "cell_type": "code",
   "execution_count": 21,
   "id": "715f6815",
   "metadata": {},
   "outputs": [
    {
     "name": "stdout",
     "output_type": "stream",
     "text": [
      "The phrase ending with'dog'.\n"
     ]
    }
   ],
   "source": [
    "def end_with_phrase(input_string,phrase):\n",
    "    return input_string.endswith(phrase)\n",
    "\n",
    "input_string=input(\"Enter the string\")\n",
    "check_phrase=\"dog\"\n",
    "\n",
    "if end_with_phrase(input_string,check_phrase):\n",
    "    print(f\"The phrase ending with'{check_phrase}'.\")\n",
    "else:\n",
    "    print(f\"The phrase dose't ending with'{check_phrase}'.\")"
   ]
  },
  {
   "cell_type": "markdown",
   "id": "c0f7bd05",
   "metadata": {},
   "source": [
    "19. Convert a string to title case (e.g., \"hello world\" to \"Hello World\")."
   ]
  },
  {
   "cell_type": "code",
   "execution_count": 24,
   "id": "9dcb2427",
   "metadata": {},
   "outputs": [
    {
     "name": "stdout",
     "output_type": "stream",
     "text": [
      " A string Convert in to title case: Hello World\n"
     ]
    }
   ],
   "source": [
    "def convert_a_string_to_title_case(input_string):\n",
    "    return input_string.title()\n",
    "\n",
    "input_string=input(\"Enter thr string\")\n",
    "result= convert_a_string_to_title_case(input_string)\n",
    "print(\" A string Convert in to title case:\", result)"
   ]
  },
  {
   "cell_type": "markdown",
   "id": "5525dc60",
   "metadata": {},
   "source": [
    "20. Find the longest word in a string."
   ]
  },
  {
   "cell_type": "code",
   "execution_count": 27,
   "id": "c4662e61",
   "metadata": {},
   "outputs": [
    {
     "name": "stdout",
     "output_type": "stream",
     "text": [
      "The longest word in the string is: quick\n"
     ]
    }
   ],
   "source": [
    "def longest_word(input_string):\n",
    "    word=input_string.split()\n",
    "    longestWord=max(word, key=len)\n",
    "    return longestWord\n",
    "\n",
    "input_string=input(\"Enter the string:\")\n",
    "result=longest_word(input_string)\n",
    "print(\"The longest word in the string is:\",result)"
   ]
  },
  {
   "cell_type": "markdown",
   "id": "49512e0e",
   "metadata": {},
   "source": [
    "\n",
    "21. Find the shortest word in a string."
   ]
  },
  {
   "cell_type": "code",
   "execution_count": 28,
   "id": "045bd938",
   "metadata": {},
   "outputs": [
    {
     "name": "stdout",
     "output_type": "stream",
     "text": [
      "The shortest word in the string is: The\n"
     ]
    }
   ],
   "source": [
    "def shortest_word(input_string):\n",
    "    word=input_string.split()\n",
    "    shortesWord=min(word,key=len)\n",
    "    return shortesWord\n",
    "\n",
    "input_string=input(\"Enter the string:\")\n",
    "result=shortest_word(input_string)\n",
    "print(\"The shortest word in the string is:\", result)"
   ]
  },
  {
   "cell_type": "markdown",
   "id": "c1ef50c1",
   "metadata": {},
   "source": [
    "16. Convert a string where words are separated by spaces to one where words are separated by underscores."
   ]
  },
  {
   "cell_type": "code",
   "execution_count": 7,
   "id": "24088846",
   "metadata": {},
   "outputs": [],
   "source": [
    "def the_shortest_word(sentence):\n",
    "    words=sentence.split()\n",
    "    shortest_word=\"\"\n",
    "    min_length=0\n",
    "    for word in words:\n",
    "        if len(word)<min_length:\n",
    "            min_length=len(word)\n",
    "            shortest_word=word\n",
    "    return shortest_word\n",
    "\n",
    "sentence=input(\"Enter the sentence:\")\n",
    "result=the_shortest_word(sentence)\n",
    "print=(\"The longest word is:\",result)"
   ]
  },
  {
   "cell_type": "markdown",
   "id": "a0d973d8",
   "metadata": {},
   "source": [
    "22. Reverse the order of words in a string."
   ]
  },
  {
   "cell_type": "code",
   "execution_count": 18,
   "id": "13f64080",
   "metadata": {},
   "outputs": [
    {
     "name": "stdout",
     "output_type": "stream",
     "text": [
      "Enter the sring:The Quick Brown Fox Jumps Over The Lazy Dog\n",
      "Reverse the order of words: goD yzaL ehT revO spmuJ xoF nworB kciuQ ehT\n"
     ]
    }
   ],
   "source": [
    "string=input(\"Enter the sring:\")\n",
    "reverse=string[::-1]\n",
    "print(\"Reverse the order of words:\",reverse)"
   ]
  },
  {
   "cell_type": "markdown",
   "id": "8ab7dec3",
   "metadata": {},
   "source": [
    "23. Check if a string is alphanumeric."
   ]
  },
  {
   "cell_type": "code",
   "execution_count": 17,
   "id": "fdff155a",
   "metadata": {},
   "outputs": [
    {
     "name": "stdout",
     "output_type": "stream",
     "text": [
      "Enter the sring: The Quick Brown Fox Jumps Over The Lazy Dog\n",
      "The string is alphanumeric: False\n"
     ]
    }
   ],
   "source": [
    "string=input(\"Enter the sring: \")\n",
    "alphanumeric=string.isalnum()\n",
    "if alphanumeric is string:\n",
    "    print(\"The string is alphanumeric:\",alphanumeric)\n",
    "else:\n",
    "    print(\"The string is alphanumeric:\",alphanumeric)"
   ]
  },
  {
   "cell_type": "markdown",
   "id": "017f473c",
   "metadata": {},
   "source": [
    "24. Extract all digits from a string."
   ]
  },
  {
   "cell_type": "code",
   "execution_count": 32,
   "id": "a422d9fa",
   "metadata": {},
   "outputs": [
    {
     "name": "stdout",
     "output_type": "stream",
     "text": [
      "Extract the all digits from string: 123\n"
     ]
    }
   ],
   "source": [
    "def extract_digit(input_string):\n",
    "    return ''.join(char for char in input_string if char.isdigit())\n",
    "\n",
    "input_string=input(\"Enter the string:\")\n",
    "result=extract_digit(input_string)\n",
    "print(\"Extract the all digits from string:\",result)"
   ]
  },
  {
   "cell_type": "markdown",
   "id": "5ed51f55",
   "metadata": {},
   "source": [
    "25. Extract all alphabets from a string."
   ]
  },
  {
   "cell_type": "code",
   "execution_count": 33,
   "id": "da8deb2f",
   "metadata": {},
   "outputs": [
    {
     "name": "stdout",
     "output_type": "stream",
     "text": [
      "Extract the all alphabets string: Rudra\n"
     ]
    }
   ],
   "source": [
    "def extract_alphabate(input_string):\n",
    "    return ''.join(char for char in input_string if char.isalpha())\n",
    "\n",
    "input_string=input(\"Enter the string:\")\n",
    "result= extract_alphabate(input_string)\n",
    "print(\"Extract the all alphabets string:\", result)"
   ]
  },
  {
   "cell_type": "markdown",
   "id": "1225fa8f",
   "metadata": {},
   "source": [
    "26. Count the number of uppercase letters in a string."
   ]
  },
  {
   "cell_type": "code",
   "execution_count": 21,
   "id": "2b5f17da",
   "metadata": {},
   "outputs": [
    {
     "name": "stdout",
     "output_type": "stream",
     "text": [
      "Enter the sentence:The Quick Brown Fox Jumps Over The Lazy Dog\n",
      "The number of uppercase letters: 9\n"
     ]
    }
   ],
   "source": [
    "def count_uppercase(s):\n",
    "    count=0\n",
    "    for string in s:\n",
    "        if string.isupper():\n",
    "            count +=1\n",
    "    return count\n",
    "string=input(\"Enter the sentence:\")\n",
    "uppercase=count_uppercase(string)\n",
    "print(\"The number of uppercase letters:\",uppercase)"
   ]
  },
  {
   "cell_type": "markdown",
   "id": "9c3fd81b",
   "metadata": {},
   "source": [
    "27. Count the number of lowercase letters in a string."
   ]
  },
  {
   "cell_type": "code",
   "execution_count": 20,
   "id": "f1ce2b06",
   "metadata": {},
   "outputs": [
    {
     "name": "stdout",
     "output_type": "stream",
     "text": [
      "Enter the sentence:The Quick Brown Fox Jumps Over The Lazy Dog\n",
      "The number of lowercase letters: 26\n"
     ]
    }
   ],
   "source": [
    "def count_lowercase(s):\n",
    "    count=0\n",
    "    for string in s:\n",
    "        if string.islower():\n",
    "            count+=1\n",
    "    return count\n",
    "string=input(\"Enter the sentence:\")\n",
    "lowercase=count_lowercase(string)\n",
    "print(\"The number of lowercase letters:\",lowercase)"
   ]
  },
  {
   "cell_type": "markdown",
   "id": "b2fea5eb",
   "metadata": {},
   "source": [
    "\n",
    "28. Swap the case of each character in a string."
   ]
  },
  {
   "cell_type": "code",
   "execution_count": 8,
   "id": "d209908e",
   "metadata": {},
   "outputs": [
    {
     "name": "stdout",
     "output_type": "stream",
     "text": [
      "1\n",
      "2\n",
      "after swaping s1 2\n"
     ]
    }
   ],
   "source": [
    "s1=input()\n",
    "s2=input()\n",
    "s1=s2.swapcase()\n",
    "print(\"after swaping s1\",s1)"
   ]
  },
  {
   "cell_type": "markdown",
   "id": "065c88a1",
   "metadata": {},
   "source": [
    "29. Remove a specific word from a string."
   ]
  },
  {
   "cell_type": "code",
   "execution_count": 35,
   "id": "834b3eda",
   "metadata": {},
   "outputs": [
    {
     "name": "stdout",
     "output_type": "stream",
     "text": [
      "specific,remove from the string Remove a  word from a string\n"
     ]
    }
   ],
   "source": [
    "def remove_word(input_string,word_to_remove):\n",
    "    return input_string.replace(word_to_remove,'')\n",
    "\n",
    "input_string=input(\"Enter the string:\")\n",
    "word_to_remove=input(\"Enter the word you want to remove from string:\")\n",
    "result=remove_word(input_string,word_to_remove)\n",
    "print(f\"{word_to_remove},remove from the string\",result)"
   ]
  },
  {
   "cell_type": "markdown",
   "id": "56d810b2",
   "metadata": {},
   "source": [
    "30. Check if a string is a valid email address."
   ]
  },
  {
   "cell_type": "code",
   "execution_count": 2,
   "id": "7d0ab98b",
   "metadata": {},
   "outputs": [
    {
     "name": "stdout",
     "output_type": "stream",
     "text": [
      "Your email id is valid False\n"
     ]
    }
   ],
   "source": [
    "import re\n",
    "\n",
    "def is_valid_email(email):\n",
    "    pattern = r'^[a-zA-z0-9_.+-]+@[a-zA-Z0-9-.]+$'\n",
    "    if re.match(pattern,email):\n",
    "        return True\n",
    "    else:\n",
    "        return False\n",
    "    \n",
    "email =input(\"Enter a email:\")\n",
    "result = is_valid_email(email)\n",
    "print(\"Your email id is valid\",result)"
   ]
  },
  {
   "cell_type": "markdown",
   "id": "7e698268",
   "metadata": {},
   "source": [
    "31. Extract the username from an email address string."
   ]
  },
  {
   "cell_type": "code",
   "execution_count": 43,
   "id": "29087fe1",
   "metadata": {},
   "outputs": [
    {
     "name": "stdout",
     "output_type": "stream",
     "text": [
      "The user name is: rudrachakeaborty\n"
     ]
    }
   ],
   "source": [
    "def extract_username(email):\n",
    "    if '@' in email:\n",
    "        username=email.split('@')[0]\n",
    "        return username\n",
    "    else:\n",
    "        return None\n",
    "     \n",
    "email_add=input(\"Enter the Email\")\n",
    "username= extract_username(email_add)\n",
    "\n",
    "if username is not None:\n",
    "    print(\"The user name is:\",username)\n",
    "else:\n",
    "    print(\"Invalid email address\")"
   ]
  },
  {
   "cell_type": "markdown",
   "id": "6ab5c6a5",
   "metadata": {},
   "source": [
    "32. Extract the domain name from an email address string."
   ]
  },
  {
   "cell_type": "code",
   "execution_count": 48,
   "id": "a623c313",
   "metadata": {},
   "outputs": [
    {
     "name": "stdout",
     "output_type": "stream",
     "text": [
      "The user domain is: gmail.com\n"
     ]
    }
   ],
   "source": [
    "def extract_domain(email):\n",
    "    if '@'in email:\n",
    "        _,domain=email.split('@',1)\n",
    "        return domain\n",
    "    else:\n",
    "        return None\n",
    "    \n",
    "email_add=input(\"Enter your email:\")\n",
    "domain=extract_domain(email_add)\n",
    "\n",
    "if domain is not None:\n",
    "    print(\"The user domain is:\",domain)\n",
    "else:\n",
    "    print(f\"{email_address} is not a valid email address\")"
   ]
  },
  {
   "cell_type": "markdown",
   "id": "03931c42",
   "metadata": {},
   "source": [
    "33. Replace multiple spaces in a string with a single space."
   ]
  },
  {
   "cell_type": "code",
   "execution_count": 1,
   "id": "4e9ed242",
   "metadata": {},
   "outputs": [
    {
     "name": "stdout",
     "output_type": "stream",
     "text": [
      "Replace multiple spaces: Rudra Chakraborty\n"
     ]
    }
   ],
   "source": [
    "def replace_multiple_spaces(input_string):\n",
    "    clear_string=' '.join(input_string.split())\n",
    "    return clear_string\n",
    "\n",
    "input_string=input(\"Enter the string:\")\n",
    "result=replace_multiple_spaces(input_string)\n",
    "print(\"Replace multiple spaces:\",result)\n"
   ]
  },
  {
   "cell_type": "markdown",
   "id": "dcb1eed7",
   "metadata": {},
   "source": [
    "34. Check if a string is a valid URL"
   ]
  },
  {
   "cell_type": "code",
   "execution_count": 43,
   "id": "61975843",
   "metadata": {},
   "outputs": [
    {
     "name": "stdout",
     "output_type": "stream",
     "text": [
      "ofhttps://pwskills.com/  is a valid URL.\n"
     ]
    }
   ],
   "source": [
    "from urllib.parse import urlparse\n",
    "def is_valid_url(url):\n",
    "    try:\n",
    "        result = urlparse(url)\n",
    "        return all([result.scheme, result.netloc])\n",
    "    except VallueError:\n",
    "        return Flase\n",
    "    \n",
    "input_url=input(\"Enter the URL:\")\n",
    "if is_valid_url(input_url):\n",
    "    print(f\"{input_url} is a valid URL.\")\n",
    "else:\n",
    "    print(f\"{input_url} is not a valid URL.\")"
   ]
  },
  {
   "cell_type": "markdown",
   "id": "7068ad66",
   "metadata": {},
   "source": [
    "35. Extract the protocol (http or https) from a URL string."
   ]
  },
  {
   "cell_type": "code",
   "execution_count": 8,
   "id": "a6b0c63b",
   "metadata": {},
   "outputs": [
    {
     "name": "stdout",
     "output_type": "stream",
     "text": [
      "The protocol ofhttps://pwskills.com/  is : https\n"
     ]
    }
   ],
   "source": [
    "from urllib.parse import urlparse\n",
    "def extract_prtocol(input_url):\n",
    "    parsed_url=urlparse(input_url)\n",
    "    return parsed_url.scheme\n",
    "\n",
    "input_url=input(\"Enter the URL:\")\n",
    "protocol=extract_prtocol(input_url)\n",
    "print(f\"The protocol of{input_url} is : {protocol}\")"
   ]
  },
  {
   "cell_type": "markdown",
   "id": "91471e2b",
   "metadata": {},
   "source": [
    "36. Find the frequency of each character in a string."
   ]
  },
  {
   "cell_type": "code",
   "execution_count": 13,
   "id": "18e82ee2",
   "metadata": {},
   "outputs": [
    {
     "name": "stdout",
     "output_type": "stream",
     "text": [
      "The frequency of a string: {'P': 1, 'W': 1, 'S': 2, 'K': 1, 'I': 1, 'L': 2}\n"
     ]
    }
   ],
   "source": [
    "def char_frequency(input_string):\n",
    "    frequency = {}\n",
    "    for char in input_string:\n",
    "        if char in frequency:\n",
    "            frequency[char] += 1\n",
    "        else:\n",
    "            frequency[char] = 1 \n",
    "    return frequency\n",
    "\n",
    "input_string = input(\"Enter the string\")\n",
    "result = char_frequency(input_string)\n",
    "print(\"The frequency of a string:\", result)"
   ]
  },
  {
   "cell_type": "markdown",
   "id": "b189da2b",
   "metadata": {},
   "source": [
    "37. Remove all punctuation from a string."
   ]
  },
  {
   "cell_type": "code",
   "execution_count": 15,
   "id": "de083a06",
   "metadata": {},
   "outputs": [
    {
     "name": "stdout",
     "output_type": "stream",
     "text": [
      "After removing punctuation: She began to count One two three four… until she got to 10 then went to find him\n"
     ]
    }
   ],
   "source": [
    "import string\n",
    "\n",
    "def remove_puctuation(input_string):\n",
    "    translator = str.maketrans('','',string.punctuation)\n",
    "    return input_string.translate(translator)\n",
    "\n",
    "input_string=input(\"Enter the string:\")\n",
    "result=remove_puctuation(input_string)\n",
    "print(\"After removing punctuation:\",result)"
   ]
  },
  {
   "cell_type": "markdown",
   "id": "6700c7dd",
   "metadata": {},
   "source": [
    "38. Check if a string contains only digits."
   ]
  },
  {
   "cell_type": "code",
   "execution_count": 17,
   "id": "a777904b",
   "metadata": {},
   "outputs": [
    {
     "name": "stdout",
     "output_type": "stream",
     "text": [
      "'Rudra123' dose not contains only digit \n"
     ]
    }
   ],
   "source": [
    "def only_digit(input_string):\n",
    "    return input_string.isdigit()\n",
    "\n",
    "string_to_check=input(\"Enter the string\")\n",
    "\n",
    "if only_digit(string_to_check):\n",
    "    print(f\"'{string_to_check}' contains only digit\")\n",
    "else:\n",
    "    print(f\"'{string_to_check}' dose not contains only digit \")"
   ]
  },
  {
   "cell_type": "markdown",
   "id": "d4381d95",
   "metadata": {},
   "source": [
    "39. Check if a string contains only alphabets."
   ]
  },
  {
   "cell_type": "code",
   "execution_count": 23,
   "id": "0d154104",
   "metadata": {},
   "outputs": [
    {
     "name": "stdout",
     "output_type": "stream",
     "text": [
      "'RudraChakraborty' contains only alphabets\n"
     ]
    }
   ],
   "source": [
    "def only_alphabets(input_string):\n",
    "    return input_string.isalpha()\n",
    "\n",
    "string_check=input(\"Enter the string\")\n",
    "\n",
    "if only_alphabets(string_check):\n",
    "    print(f\"'{string_check}' contains only alphabets\")\n",
    "else:\n",
    "    print(f\"'{string_check}' dose not contains only alphabets \")"
   ]
  },
  {
   "cell_type": "markdown",
   "id": "6df54fc8",
   "metadata": {},
   "source": [
    "40. Convert a string to a list of characters."
   ]
  },
  {
   "cell_type": "code",
   "execution_count": 25,
   "id": "d0d39b59",
   "metadata": {},
   "outputs": [
    {
     "name": "stdout",
     "output_type": "stream",
     "text": [
      "Convert a string to list ['p', 'w', 's', 'k', 'i', 'l', 'l', 'd']\n"
     ]
    }
   ],
   "source": [
    "def convert_into_list(input_string):\n",
    "    for char in input_string:\n",
    "        char_list = list(input_string)\n",
    "        return char_list\n",
    "    \n",
    "input_string=input(\"Enter your string:\")\n",
    "result= convert_into_list(input_string)\n",
    "print(\"Convert a string to list\", result)"
   ]
  },
  {
   "cell_type": "markdown",
   "id": "4620e4f4",
   "metadata": {},
   "source": [
    "41. Check if two strings are anagrams."
   ]
  },
  {
   "cell_type": "code",
   "execution_count": 33,
   "id": "e3ae3cf4",
   "metadata": {},
   "outputs": [
    {
     "name": "stdout",
     "output_type": "stream",
     "text": [
      "'Race' and 'Care' are anagrams True\n",
      "'Cow' and 'Dog' are anagrams False\n"
     ]
    }
   ],
   "source": [
    "def anagrams(string,string_two):\n",
    "    string=string.replace(\" \",\"\").lower()\n",
    "    string_two=string_two.replace(\" \",\"\").lower()\n",
    "    return sorted(string) == sorted(string_two)\n",
    "\n",
    "input_string=input(\"Enter the first string:\")\n",
    "input_string2=input(\"Enter the second string:\")\n",
    "input_string3=input(\"Enter the tierd string:\")\n",
    "input_string4=input(\"Enter the forth string:\")\n",
    "\n",
    "result=anagrams(input_string,input_string2)\n",
    "result2=anagrams(input_string3,input_string4)\n",
    "\n",
    "print(f\"'{input_string}' and '{input_string2}' are anagrams\",result)\n",
    "print(f\"'{input_string3}' and '{input_string4}' are anagrams\",result2)"
   ]
  },
  {
   "cell_type": "markdown",
   "id": "904ee5be",
   "metadata": {},
   "source": [
    "42. Encode a string using a Caesar cipher."
   ]
  },
  {
   "cell_type": "code",
   "execution_count": 11,
   "id": "de513579",
   "metadata": {},
   "outputs": [
    {
     "name": "stdout",
     "output_type": "stream",
     "text": [
      "Original text: PW Skills\n",
      "Encoded text: SZ Vnloov\n"
     ]
    }
   ],
   "source": [
    "def caesar_cipher(text, shift):\n",
    "    result = []\n",
    "    for char in text:\n",
    "        if char.isalpha():\n",
    "            shift_base = ord('A') if char.isupper() else ord('a')\n",
    "            encoded_char = chr((ord(char) - shift_base + shift) % 26 + shift_base)\n",
    "            result.append(encoded_char)\n",
    "        else:\n",
    "            result.append(char)\n",
    "    return ''.join(result)\n",
    "original_text = input(\"Enter the string\")\n",
    "shift = 3\n",
    "encoded_text = caesar_cipher(original_text, shift)\n",
    "print(\"Original text:\", original_text)\n",
    "print(\"Encoded text:\", encoded_text)"
   ]
  },
  {
   "cell_type": "markdown",
   "id": "886bb754",
   "metadata": {},
   "source": [
    "43. Decode a Caesar cipher encoded string."
   ]
  },
  {
   "cell_type": "code",
   "execution_count": 12,
   "id": "ea76fae4",
   "metadata": {},
   "outputs": [
    {
     "name": "stdout",
     "output_type": "stream",
     "text": [
      "Encoded text: SZ Vnloov!\n",
      "Decoded text: PW Skills!\n"
     ]
    }
   ],
   "source": [
    "def caesar_cipher_decode(text, shift):\n",
    "    result = []\n",
    "    for char in text:\n",
    "        if char.isalpha():\n",
    "            shift_base = ord('A') if char.isupper() else ord('a')\n",
    "            decoded_char = chr((ord(char) - shift_base - shift) % 26 + shift_base)\n",
    "            result.append(decoded_char)\n",
    "        else:\n",
    "            result.append(char)\n",
    "    \n",
    "    return ''.join(result)\n",
    "encoded_text = \"SZ Vnloov!\"\n",
    "shift = 3\n",
    "decoded_text = caesar_cipher_decode(encoded_text, shift)\n",
    "\n",
    "print(\"Encoded text:\", encoded_text)\n",
    "print(\"Decoded text:\", decoded_text)\n"
   ]
  },
  {
   "cell_type": "markdown",
   "id": "8c0f2e20",
   "metadata": {},
   "source": [
    "44. Find the most frequent word in a string."
   ]
  },
  {
   "cell_type": "code",
   "execution_count": 14,
   "id": "bede6418",
   "metadata": {},
   "outputs": [
    {
     "name": "stdout",
     "output_type": "stream",
     "text": [
      "The most frequent word is: test\n"
     ]
    }
   ],
   "source": [
    "from collections import Counter\n",
    "import re\n",
    "def most_frequent_word(text):\n",
    "    words = re.findall(r'\\b\\w+\\b', text.lower())\n",
    "    word_counts = Counter(words)\n",
    "    most_common_word, most_common_count = word_counts.most_common(1)[0]\n",
    "    return most_common_word\n",
    "text = \"This is a test. This test is only a test.\"\n",
    "most_frequent = most_frequent_word(text)\n",
    "print(\"The most frequent word is:\", most_frequent)"
   ]
  },
  {
   "cell_type": "markdown",
   "id": "64dd93d3",
   "metadata": {},
   "source": [
    "45. Find all unique words in a string."
   ]
  },
  {
   "cell_type": "code",
   "execution_count": 15,
   "id": "34704080",
   "metadata": {},
   "outputs": [
    {
     "name": "stdout",
     "output_type": "stream",
     "text": [
      "The unique words are: {'is', 'only', 'this', 'test', 'a'}\n"
     ]
    }
   ],
   "source": [
    "import re\n",
    "\n",
    "def unique_words(text):\n",
    "    words = re.findall(r'\\b\\w+\\b', text.lower())\n",
    "    unique_words_set = set(words)\n",
    "    return unique_words_set\n",
    "text = \"This is a test. This test is only a test.\"\n",
    "unique_words_set = unique_words(text)\n",
    "print(\"The unique words are:\", unique_words_set)"
   ]
  },
  {
   "cell_type": "markdown",
   "id": "ca8bd376",
   "metadata": {},
   "source": [
    "46. Count the number of syllables in a string."
   ]
  },
  {
   "cell_type": "code",
   "execution_count": 17,
   "id": "a80f0ea0",
   "metadata": {},
   "outputs": [
    {
     "name": "stdout",
     "output_type": "stream",
     "text": [
      "The total number of syllables is: 11\n"
     ]
    }
   ],
   "source": [
    "import re\n",
    "\n",
    "def count_syllables(word):\n",
    "    word = word.lower()\n",
    "    word = re.sub(r'[^a-z]', '', word)\n",
    "    syllables = len(re.findall(r'[aeiouy]+', word))\n",
    "    return syllables\n",
    "def count_syllables_in_text(text):\n",
    "    words = re.findall(r'\\b\\w+\\b', text.lower())\n",
    "    syllable_count = sum(count_syllables(word) for word in words)\n",
    "    return syllable_count\n",
    "text = input(\"Enter the text\")\n",
    "total_syllables = count_syllables_in_text(text)\n",
    "print(\"The total number of syllables is:\", total_syllables)"
   ]
  },
  {
   "cell_type": "markdown",
   "id": "d0a01c75",
   "metadata": {},
   "source": [
    "47. Check if a string contains any special characters."
   ]
  },
  {
   "cell_type": "code",
   "execution_count": 18,
   "id": "c05f8255",
   "metadata": {},
   "outputs": [
    {
     "name": "stdout",
     "output_type": "stream",
     "text": [
      "Contains special characters: True\n",
      "Contains special characters: False\n"
     ]
    }
   ],
   "source": [
    "import re\n",
    "def contains_special_characters(text):\n",
    "    special_char_pattern = re.compile(r'[^a-zA-Z0-9]')\n",
    "    if special_char_pattern.search(text):\n",
    "        return True\n",
    "    else:\n",
    "        return False\n",
    "text_with_special_chars = input(\"Enter the text\")\n",
    "text_without_special_chars = input(\"Enter the text\")\n",
    "print(\"Contains special characters:\", contains_special_characters(text_with_special_chars))\n",
    "print(\"Contains special characters:\", contains_special_characters(text_without_special_chars))"
   ]
  },
  {
   "cell_type": "markdown",
   "id": "c1abf9d0",
   "metadata": {},
   "source": [
    "48. Remove the nth word from a string."
   ]
  },
  {
   "cell_type": "code",
   "execution_count": 19,
   "id": "59a8fdca",
   "metadata": {},
   "outputs": [
    {
     "name": "stdout",
     "output_type": "stream",
     "text": [
      "Original text: This is a test string for the example.\n",
      "Text after removing the nth word: This is a string for the example.\n"
     ]
    }
   ],
   "source": [
    "def remove_nth_word(text, n):\n",
    "    words = text.split()\n",
    "    if 1 <= n <= len(words):\n",
    "        words.pop(n - 1)\n",
    "    return ' '.join(words)\n",
    "text = \"This is a test string for the example.\"\n",
    "n = 4\n",
    "result = remove_nth_word(text, n)\n",
    "print(\"Original text:\", text)\n",
    "print(\"Text after removing the nth word:\", result)"
   ]
  },
  {
   "cell_type": "markdown",
   "id": "94e4832a",
   "metadata": {},
   "source": [
    "49. Insert a word at the nth position in a string."
   ]
  },
  {
   "cell_type": "code",
   "execution_count": 20,
   "id": "249bcf27",
   "metadata": {},
   "outputs": [
    {
     "name": "stdout",
     "output_type": "stream",
     "text": [
      "Original text: This is a test string for the example.\n",
      "Text after inserting the word: This is a new test string for the example.\n"
     ]
    }
   ],
   "source": [
    "def insert_nth_word(text, word, n):\n",
    "    words = text.split()\n",
    "    if n > len(words):\n",
    "        words.append(word)\n",
    "    else:\n",
    "        words.insert(n - 1, word)\n",
    "    return ' '.join(words)\n",
    "text = \"This is a test string for the example.\"\n",
    "word_to_insert = \"new\"\n",
    "n = 4\n",
    "result = insert_nth_word(text, word_to_insert, n)\n",
    "print(\"Original text:\", text)\n",
    "print(\"Text after inserting the word:\", result)"
   ]
  },
  {
   "cell_type": "markdown",
   "id": "9b848c7a",
   "metadata": {},
   "source": [
    "50. Convert a CSV string to a list of lists."
   ]
  },
  {
   "cell_type": "code",
   "execution_count": 22,
   "id": "96d79e49",
   "metadata": {},
   "outputs": [
    {
     "name": "stdout",
     "output_type": "stream",
     "text": [
      "CSV string:\n",
      "name,age,city\n",
      "Rudra,25,Kolkata\n",
      "Archisman,14,Asansol\n",
      "Soumyadeep,25,Haora\n",
      "\n",
      "List of lists:\n",
      "[['name', 'age', 'city'], ['Rudra', '25', 'Kolkata'], ['Archisman', '14', 'Asansol'], ['Soumyadeep', '25', 'Haora']]\n"
     ]
    }
   ],
   "source": [
    "import csv\n",
    "from io import StringIO\n",
    "def csv_to_list(csv_string):\n",
    "    csv_file = StringIO(csv_string)\n",
    "    reader = csv.reader(csv_file)\n",
    "    csv_list = list(reader)\n",
    "    return csv_list\n",
    "csv_string = \"\"\"name,age,city\n",
    "Rudra,25,Kolkata\n",
    "Archisman,14,Asansol\n",
    "Soumyadeep,25,Haora\"\"\"\n",
    "result = csv_to_list(csv_string)\n",
    "print(\"CSV string:\")\n",
    "print(csv_string)\n",
    "print(\"\\nList of lists:\")\n",
    "print(result)"
   ]
  },
  {
   "cell_type": "markdown",
   "id": "62f2449e",
   "metadata": {},
   "source": [
    "# List Based Practice Problem:"
   ]
  },
  {
   "cell_type": "markdown",
   "id": "383f700a",
   "metadata": {},
   "source": [
    "1. Create a list with integers from 1 to 10."
   ]
  },
  {
   "cell_type": "code",
   "execution_count": 8,
   "id": "a498f5fc",
   "metadata": {},
   "outputs": [
    {
     "name": "stdout",
     "output_type": "stream",
     "text": [
      "1\n",
      "2\n",
      "3\n",
      "4\n",
      "5\n",
      "6\n",
      "7\n",
      "8\n",
      "9\n",
      "10\n"
     ]
    }
   ],
   "source": [
    "for i in list(range(1,11)):\n",
    "    print(i)"
   ]
  },
  {
   "cell_type": "markdown",
   "id": "20d73614",
   "metadata": {},
   "source": [
    "2. Find the length of a list without using the `len()` function."
   ]
  },
  {
   "cell_type": "code",
   "execution_count": 7,
   "id": "99a95347",
   "metadata": {},
   "outputs": [
    {
     "name": "stdout",
     "output_type": "stream",
     "text": [
      "The length of a list 10\n"
     ]
    }
   ],
   "source": [
    "list=[1,2,3,4,5,6,7,8,9,10]\n",
    "length=0\n",
    "for _ in list:\n",
    "    length+=1\n",
    "print(\"The length of a list\", length)"
   ]
  },
  {
   "cell_type": "markdown",
   "id": "87946f78",
   "metadata": {},
   "source": [
    "3. Append an element to the end of a list."
   ]
  },
  {
   "cell_type": "code",
   "execution_count": 6,
   "id": "35c8393c",
   "metadata": {},
   "outputs": [
    {
     "name": "stdout",
     "output_type": "stream",
     "text": [
      "Enter an element to the end of a list: Hello!!\n",
      "[1, 2, 3, 4, 5, 6, 7, 8, 9, 10, 'Hello!!']\n"
     ]
    }
   ],
   "source": [
    "list=[1,2,3,4,5,6,7,8,9,10]\n",
    "input_in_list=input(\"Enter an element to the end of a list: \")\n",
    "list.append(input_in_list)\n",
    "print(list)"
   ]
  },
  {
   "cell_type": "markdown",
   "id": "4c8e5254",
   "metadata": {},
   "source": [
    "4. Insert an element at a specific index in a list."
   ]
  },
  {
   "cell_type": "code",
   "execution_count": 4,
   "id": "31e0c0e4",
   "metadata": {},
   "outputs": [
    {
     "name": "stdout",
     "output_type": "stream",
     "text": [
      "Enter an element at a specific index in a list: 5\n",
      "Enter an element to insert: 55\n",
      "[1, 2, 3, 4, 5, 55, 6, 7, 8, 9, 10]\n"
     ]
    }
   ],
   "source": [
    "list= [1,2,3,4,5,6,7,8,9,10]\n",
    "index = int(input(\"Enter an element at a specific index in a list: \"))\n",
    "element_insert = int(input(\"Enter an element to insert: \"))\n",
    "list.insert(index, element_insert)\n",
    "print(list)"
   ]
  },
  {
   "cell_type": "markdown",
   "id": "a5e3fcf8",
   "metadata": {},
   "source": [
    "5. Remove an element from a list by its value."
   ]
  },
  {
   "cell_type": "code",
   "execution_count": 4,
   "id": "2d5a9c5a",
   "metadata": {},
   "outputs": [
    {
     "name": "stdout",
     "output_type": "stream",
     "text": [
      "Enter the value want to remove an element from a list: 5\n",
      "Remove an element from a list by its value: [1, 2, 3, 4, 6, 7, 8, 9, 10]\n"
     ]
    }
   ],
   "source": [
    "list=[1,2,3,4,5,6,7,8,9,10]\n",
    "y=int(input(\"Enter the value want to remove an element from a list: \"))\n",
    "list=[x for x in list if x!=y]\n",
    "print(\"Remove an element from a list by its value:\",list)"
   ]
  },
  {
   "cell_type": "markdown",
   "id": "4972de2d",
   "metadata": {},
   "source": [
    "6. Remove an element from a list by its index."
   ]
  },
  {
   "cell_type": "code",
   "execution_count": 1,
   "id": "1b7c6dc5",
   "metadata": {},
   "outputs": [
    {
     "name": "stdout",
     "output_type": "stream",
     "text": [
      "Enter the value want to remove an element from a list: 4\n",
      "List after removing an element:  [1, 2, 3, 4, 6, 7, 8, 9, 10]\n",
      "Removed element: 5\n"
     ]
    }
   ],
   "source": [
    "list=[1,2,3,4,5,6,7,8,9,10]\n",
    "x=int(input(\"Enter the value want to remove an element from a list: \"))\n",
    "remove_from_list=list.pop(x)\n",
    "print(\"List after removing an element: \",list)\n",
    "print(\"Removed element:\",remove_from_list)"
   ]
  },
  {
   "cell_type": "markdown",
   "id": "560db1b6",
   "metadata": {},
   "source": [
    "7. Check if an element exists in a list."
   ]
  },
  {
   "cell_type": "code",
   "execution_count": 21,
   "id": "6acad65c",
   "metadata": {},
   "outputs": [
    {
     "name": "stdout",
     "output_type": "stream",
     "text": [
      "Enter an element want to check from a list: 5\n",
      "The element is 5 exist in this list\n"
     ]
    }
   ],
   "source": [
    "list=[1,2,3,4,5,6,7,8,9,10]\n",
    "check_element=int(input(\"Enter an element want to check from a list: \"))\n",
    "if check_element in list:\n",
    "    print(f\"The element is {check_element} exist in this list\")\n",
    "else:\n",
    "    print(f\"The element {check_element} is dose not exist in this list\")"
   ]
  },
  {
   "cell_type": "markdown",
   "id": "1eb57cac",
   "metadata": {},
   "source": [
    "8. Find the index of the first occurrence of an element in a list."
   ]
  },
  {
   "cell_type": "code",
   "execution_count": 18,
   "id": "98964b3c",
   "metadata": {},
   "outputs": [
    {
     "name": "stdout",
     "output_type": "stream",
     "text": [
      "Enter the value want to check an element from a list: 11\n",
      "11 is not in the list\n"
     ]
    }
   ],
   "source": [
    "list=[1,2,3,4,5,6,7,8,9,10]\n",
    "find_element=int(input(\"Enter the value want to check an element from a list: \"))\n",
    "if find_element in list:\n",
    "    index=list.index(find_element)\n",
    "    print(\"The first occurrence\",find_element,\"of is at index\", index)\n",
    "else:\n",
    "    print(f\"{find_element} is not in the list\")"
   ]
  },
  {
   "cell_type": "markdown",
   "id": "bb8ab84d",
   "metadata": {},
   "source": [
    "9. Count the occurrences of an element in a list."
   ]
  },
  {
   "cell_type": "code",
   "execution_count": 26,
   "id": "dcce6c98",
   "metadata": {},
   "outputs": [
    {
     "name": "stdout",
     "output_type": "stream",
     "text": [
      "Enter the  occurrences of an element in a list: 0\n",
      "The element 0 appears 1 times in the list.\n"
     ]
    }
   ],
   "source": [
    "list=[1,2,3,4,5,6,7,8,9,10,9,8,7,6,5,4,3,2,1,0,3,2,1,4,5,6,9,8,7]\n",
    "element_count=int(input(\"Enter the  occurrences of an element in a list: \"))\n",
    "count=list.count(element_count)\n",
    "print(f\"The element {element_count} appears {count} times in the list.\")"
   ]
  },
  {
   "cell_type": "markdown",
   "id": "160f9dc3",
   "metadata": {},
   "source": [
    "10. Reverse the order of elements in a list"
   ]
  },
  {
   "cell_type": "code",
   "execution_count": 29,
   "id": "397b4f9f",
   "metadata": {},
   "outputs": [
    {
     "name": "stdout",
     "output_type": "stream",
     "text": [
      "Reverse the order of elements in a list [10, 9, 8, 7, 6, 5, 4, 3, 2, 1]\n"
     ]
    }
   ],
   "source": [
    "list=[1,2,3,4,5,6,7,8,9,10]\n",
    "reverse=list[::-1]\n",
    "print(\"Reverse the order of elements in a list\", reverse)"
   ]
  },
  {
   "cell_type": "markdown",
   "id": "5f81d748",
   "metadata": {},
   "source": [
    "11. Sort a list in ascending order."
   ]
  },
  {
   "cell_type": "code",
   "execution_count": 40,
   "id": "4c32c1f4",
   "metadata": {},
   "outputs": [
    {
     "name": "stdout",
     "output_type": "stream",
     "text": [
      "Sorted list in ascending order: [0, 1, 1, 2, 2, 2, 3, 3, 3, 3, 4, 4, 4, 4, 5, 5, 5, 5, 6, 6, 6, 7, 7, 7, 8, 8, 8, 9, 9, 9, 10]\n"
     ]
    }
   ],
   "source": [
    "list=[1,2,3,4,5,6,7,8,9,10,9,8,7,6,5,4,3,2,1,0,3,2,4,5,6,9,8,7,3,4,5]\n",
    "ascending_list=list.sort()\n",
    "print(\"Sorted list in ascending order:\", list)"
   ]
  },
  {
   "cell_type": "markdown",
   "id": "e7ea03fb",
   "metadata": {},
   "source": [
    "12. Sort a list in descending order."
   ]
  },
  {
   "cell_type": "code",
   "execution_count": 42,
   "id": "b6c0eafa",
   "metadata": {},
   "outputs": [
    {
     "name": "stdout",
     "output_type": "stream",
     "text": [
      "Sorted list in descending order: [10, 9, 9, 9, 8, 8, 8, 7, 7, 7, 6, 6, 6, 5, 5, 5, 5, 4, 4, 4, 4, 3, 3, 3, 3, 2, 2, 2, 1, 1, 0]\n"
     ]
    }
   ],
   "source": [
    "list=[1,2,3,4,5,6,7,8,9,10,9,8,7,6,5,4,3,2,1,0,3,2,4,5,6,9,8,7,3,4,5]\n",
    "descending=list.sort(reverse=True)\n",
    "print(\"Sorted list in descending order:\", list)"
   ]
  },
  {
   "cell_type": "markdown",
   "id": "fac745f4",
   "metadata": {},
   "source": [
    "13. Create a list of even numbers from 1 to 20."
   ]
  },
  {
   "cell_type": "code",
   "execution_count": 12,
   "id": "015aa6b2",
   "metadata": {},
   "outputs": [
    {
     "name": "stdout",
     "output_type": "stream",
     "text": [
      "2\n",
      "4\n",
      "6\n",
      "8\n",
      "10\n",
      "12\n",
      "14\n",
      "16\n",
      "18\n",
      "20\n"
     ]
    }
   ],
   "source": [
    "for i in list(range(1,21)):\n",
    "    if i%2==0:\n",
    "        print(i)"
   ]
  },
  {
   "cell_type": "markdown",
   "id": "8c943320",
   "metadata": {},
   "source": [
    "14. Create a list of odd numbers from 1 to 20."
   ]
  },
  {
   "cell_type": "code",
   "execution_count": 13,
   "id": "8705816a",
   "metadata": {},
   "outputs": [
    {
     "name": "stdout",
     "output_type": "stream",
     "text": [
      "1\n",
      "3\n",
      "5\n",
      "7\n",
      "9\n",
      "11\n",
      "13\n",
      "15\n",
      "17\n",
      "19\n"
     ]
    }
   ],
   "source": [
    "for i in list(range(1,21)):\n",
    "    if i%2!=0:\n",
    "        print(i)"
   ]
  },
  {
   "cell_type": "markdown",
   "id": "b3d5a2f5",
   "metadata": {},
   "source": [
    "15. Find the sum of all elements in a list."
   ]
  },
  {
   "cell_type": "code",
   "execution_count": 2,
   "id": "4b9f1946",
   "metadata": {},
   "outputs": [
    {
     "name": "stdout",
     "output_type": "stream",
     "text": [
      "The sum of all elements in a list: 55\n"
     ]
    }
   ],
   "source": [
    "list=[1,2,3,4,5,6,7,8,9,10]\n",
    "list_sum=sum(list)\n",
    "print(\"The sum of all elements in a list:\",list_sum)"
   ]
  },
  {
   "cell_type": "markdown",
   "id": "76852561",
   "metadata": {},
   "source": [
    "16. Find the maximum value in a list."
   ]
  },
  {
   "cell_type": "code",
   "execution_count": 3,
   "id": "d01fe7f8",
   "metadata": {},
   "outputs": [
    {
     "name": "stdout",
     "output_type": "stream",
     "text": [
      "The maximum value in a list: 15\n"
     ]
    }
   ],
   "source": [
    "list=[1,2,3,4,5,6,7,8,9,10,9,8,7,6,5,4,3,2,1,0,3,2,4,5,6,9,8,7,3,4,5,15]\n",
    "maximum=max(list)\n",
    "print(\"The maximum value in a list:\",maximum)"
   ]
  },
  {
   "cell_type": "markdown",
   "id": "cb4d7a42",
   "metadata": {},
   "source": [
    "17. Find the minimum value in a list."
   ]
  },
  {
   "cell_type": "code",
   "execution_count": 5,
   "id": "1a625490",
   "metadata": {},
   "outputs": [
    {
     "name": "stdout",
     "output_type": "stream",
     "text": [
      "The maximum value in a list: 0\n"
     ]
    }
   ],
   "source": [
    "list=[1,2,3,4,5,6,7,8,9,10,9,8,7,6,5,4,3,2,1,0,3,2,4,5,6,9,8,7,3,4,5,15]\n",
    "minimum=min(list)\n",
    "print(\"The maximum value in a list:\",minimum)"
   ]
  },
  {
   "cell_type": "markdown",
   "id": "acf2413a",
   "metadata": {},
   "source": [
    "18. Create a list of squares of numbers from 1 to 10."
   ]
  },
  {
   "cell_type": "code",
   "execution_count": 9,
   "id": "ddab8f79",
   "metadata": {},
   "outputs": [
    {
     "name": "stdout",
     "output_type": "stream",
     "text": [
      "[1, 4, 9, 16, 25, 36, 49, 64, 81, 100]\n"
     ]
    }
   ],
   "source": [
    "squares_list = [i**2 for i in range(1, 11)]\n",
    "print(squares_list)"
   ]
  },
  {
   "cell_type": "markdown",
   "id": "b3dacf42",
   "metadata": {},
   "source": [
    "19. Create a list of random numbers."
   ]
  },
  {
   "cell_type": "code",
   "execution_count": 11,
   "id": "cf0f1aa6",
   "metadata": {},
   "outputs": [
    {
     "name": "stdout",
     "output_type": "stream",
     "text": [
      "[28, 59, 11, 63, 29, 16, 16, 80, 52, 94]\n"
     ]
    }
   ],
   "source": [
    "import random\n",
    "\n",
    "random_numbers = [random.randint(1, 100) for _ in range(10)]\n",
    "print(random_numbers)"
   ]
  },
  {
   "cell_type": "markdown",
   "id": "9f376904",
   "metadata": {},
   "source": [
    "20. Remove duplicates from a list."
   ]
  },
  {
   "cell_type": "code",
   "execution_count": 19,
   "id": "9a75897b",
   "metadata": {},
   "outputs": [
    {
     "name": "stdout",
     "output_type": "stream",
     "text": [
      "[0, 1, 2, 3, 4, 5, 6, 7, 8, 9, 10, 15]\n"
     ]
    }
   ],
   "source": [
    "a=[1,2,3,4,5,6,7,8,9,10,9,8,7,6,5,4,3,2,1,0,3,2,4,5,6,9,8,7,3,4,5,15]\n",
    "new_list=list(set(a))\n",
    "print(\"Remove duplicates from a list\",  new_list)"
   ]
  },
  {
   "cell_type": "markdown",
   "id": "69cac6ff",
   "metadata": {},
   "source": [
    "21. Find the common elements between two lists."
   ]
  },
  {
   "cell_type": "code",
   "execution_count": 27,
   "id": "b0960317",
   "metadata": {},
   "outputs": [
    {
     "name": "stdout",
     "output_type": "stream",
     "text": [
      "The common elements between two lists 5\n"
     ]
    }
   ],
   "source": [
    "list_1=[1,2,3,4,5]\n",
    "list_2=[5,6,7,8,9]\n",
    "for i in list_1:\n",
    "    if i in list_2:\n",
    "        print(\"The common elements between two lists\",i)"
   ]
  },
  {
   "cell_type": "markdown",
   "id": "e3bb8235",
   "metadata": {},
   "source": [
    "22. Find the difference between two lists."
   ]
  },
  {
   "cell_type": "code",
   "execution_count": 15,
   "id": "b85fd31b",
   "metadata": {},
   "outputs": [
    {
     "name": "stdout",
     "output_type": "stream",
     "text": [
      "The difference between two lists: [1, 2, 3, 4]\n"
     ]
    }
   ],
   "source": [
    "list_1 = [1,2,3,4,5]\n",
    "list_2 = [5,6,7,8,9]\n",
    "difference = [x for x in list_1 if x not in list_2]\n",
    "print(\"The difference between two lists:\",difference)"
   ]
  },
  {
   "cell_type": "markdown",
   "id": "63969670",
   "metadata": {},
   "source": [
    "23. Merge two lists."
   ]
  },
  {
   "cell_type": "code",
   "execution_count": 8,
   "id": "e65f4c55",
   "metadata": {},
   "outputs": [
    {
     "name": "stdout",
     "output_type": "stream",
     "text": [
      "After merge two lists: [1, 2, 3, 4, 5, 6, 7, 8, 9, 10]\n"
     ]
    }
   ],
   "source": [
    "list_1=[1,2,3,4,5]\n",
    "list_2=[6,7,8,9,10]\n",
    "marge=[i for i in list_1]+[i for i in  list_2]\n",
    "print(\"After merge two lists:\",marge)"
   ]
  },
  {
   "cell_type": "markdown",
   "id": "3843855d",
   "metadata": {},
   "source": [
    "24. Multiply all elements in a list by 2."
   ]
  },
  {
   "cell_type": "code",
   "execution_count": 20,
   "id": "9106c625",
   "metadata": {},
   "outputs": [
    {
     "name": "stdout",
     "output_type": "stream",
     "text": [
      "[2, 4, 6, 8, 10, 12, 14, 16, 18, 20, 18, 16, 14, 12, 10, 8, 6, 4, 2, 0, 6, 4, 8, 10, 12, 18, 16, 14, 6, 8, 10, 30]\n"
     ]
    }
   ],
   "source": [
    "list=[1,2,3,4,5,6,7,8,9,10,9,8,7,6,5,4,3,2,1,0,3,2,4,5,6,9,8,7,3,4,5,15]\n",
    "multiply = [i*2 for i in list]\n",
    "print(multiply)"
   ]
  },
  {
   "cell_type": "markdown",
   "id": "315ce271",
   "metadata": {},
   "source": [
    "25. Filter out all even numbers from a list."
   ]
  },
  {
   "cell_type": "code",
   "execution_count": 36,
   "id": "e7994191",
   "metadata": {},
   "outputs": [
    {
     "name": "stdout",
     "output_type": "stream",
     "text": [
      "[1, 3, 5, 7, 9]\n"
     ]
    }
   ],
   "source": [
    "original_list = [1, 2, 3, 4, 5, 6, 7, 8, 9]\n",
    "filtered_list = []\n",
    "for i in original_list:\n",
    "    if i% 2!= 0:\n",
    "        filtered_list.append(i)\n",
    "print(filtered_list)"
   ]
  },
  {
   "cell_type": "markdown",
   "id": "c9e18aa7",
   "metadata": {},
   "source": [
    "26. Convert a list of strings to a list of integers."
   ]
  },
  {
   "cell_type": "code",
   "execution_count": 25,
   "id": "48da6084",
   "metadata": {},
   "outputs": [
    {
     "name": "stdout",
     "output_type": "stream",
     "text": [
      "[1, 2, 3, 4, 5]\n"
     ]
    }
   ],
   "source": [
    "string = [\"1\", \"2\", \"3\", \"4\", \"5\"]\n",
    "integer_list = []\n",
    "for item in string:\n",
    "    integer_list.append(int(item))\n",
    "print(integer_list)"
   ]
  },
  {
   "cell_type": "markdown",
   "id": "c27117c2",
   "metadata": {},
   "source": [
    "27. Convert a list of integers to a list of strings."
   ]
  },
  {
   "cell_type": "code",
   "execution_count": 40,
   "id": "cb6e0719",
   "metadata": {},
   "outputs": [
    {
     "name": "stdout",
     "output_type": "stream",
     "text": [
      "['1', '2', '3', '4', '5', '6', '7', '8', '9']\n"
     ]
    }
   ],
   "source": [
    "list=[1, 2, 3, 4, 5, 6, 7, 8, 9]\n",
    "string_list= []\n",
    "for item in list:\n",
    "    string_list.append(str(item))\n",
    "print(string_list)"
   ]
  },
  {
   "cell_type": "markdown",
   "id": "ad99865d",
   "metadata": {},
   "source": [
    "28. Flatten a nested list."
   ]
  },
  {
   "cell_type": "code",
   "execution_count": 26,
   "id": "fd5ba26d",
   "metadata": {},
   "outputs": [
    {
     "name": "stdout",
     "output_type": "stream",
     "text": [
      "Original nested list: [1, [2, [3, 4], 5], 6, [7, 8, [9, 10]]]\n",
      "Flattened list: [1, 2, 3, 4, 5, 6, 7, 8, 9, 10]\n"
     ]
    }
   ],
   "source": [
    "def flatten(nested_list):\n",
    "    flattened_list = []\n",
    "    for element in nested_list:\n",
    "        if isinstance(element, list):\n",
    "            flattened_list.extend(flatten(element))\n",
    "        else:\n",
    "            flattened_list.append(element)\n",
    "    return flattened_list\n",
    "nested_list = [1, [2, [3, 4], 5], 6, [7, 8, [9, 10]]]\n",
    "flattened = flatten(nested_list)\n",
    "print(\"Original nested list:\", nested_list)\n",
    "print(\"Flattened list:\", flattened)\n"
   ]
  },
  {
   "cell_type": "markdown",
   "id": "9ca06969",
   "metadata": {},
   "source": [
    "29. Create a list of the first 10 Fibonacci numbers."
   ]
  },
  {
   "cell_type": "code",
   "execution_count": 6,
   "id": "2a935f22",
   "metadata": {},
   "outputs": [
    {
     "name": "stdout",
     "output_type": "stream",
     "text": [
      "The first 10 Fibonacci numbers are: [0, 1, 1, 2, 3, 5, 8, 13, 21, 34]\n"
     ]
    }
   ],
   "source": [
    "def fibonacci(n):\n",
    "    fib_sequence = [0, 1]\n",
    "    while len(fib_sequence) < n:\n",
    "        fib_sequence.append(fib_sequence[-1] + fib_sequence[-2])\n",
    "    return fib_sequence[:n]\n",
    "first_10_fibonacci = fibonacci(10)\n",
    "print(\"The first 10 Fibonacci numbers are:\", first_10_fibonacci)"
   ]
  },
  {
   "cell_type": "markdown",
   "id": "552f89d2",
   "metadata": {},
   "source": [
    "30. Check if a list is sorted."
   ]
  },
  {
   "cell_type": "code",
   "execution_count": 8,
   "id": "a9ed999a",
   "metadata": {},
   "outputs": [
    {
     "name": "stdout",
     "output_type": "stream",
     "text": [
      "Is the list sorted (ascending or descending)? True\n",
      "Is the list sorted (ascending or descending)? True\n",
      "Is the list sorted (ascending or descending)? False\n"
     ]
    }
   ],
   "source": [
    "def is_sorted(lst):\n",
    "    return lst == sorted(lst) or lst == sorted(lst, reverse=True)\n",
    "my_list_asc = [1, 2, 3, 4, 5]\n",
    "my_list_desc = [5, 4, 3, 2, 1]\n",
    "my_list_unsorted = [1, 3, 2, 5, 4]\n",
    "print(\"Is the list sorted (ascending or descending)?\", is_sorted(my_list_asc))\n",
    "print(\"Is the list sorted (ascending or descending)?\", is_sorted(my_list_desc))\n",
    "print(\"Is the list sorted (ascending or descending)?\", is_sorted(my_list_unsorted))\n"
   ]
  },
  {
   "cell_type": "markdown",
   "id": "1291b7c4",
   "metadata": {},
   "source": [
    "31. Rotate a list to the left by `n` positions."
   ]
  },
  {
   "cell_type": "code",
   "execution_count": 51,
   "id": "8efd5151",
   "metadata": {},
   "outputs": [
    {
     "name": "stdout",
     "output_type": "stream",
     "text": [
      "[3, 4, 5, 1, 2]\n"
     ]
    }
   ],
   "source": [
    "def rotate_left(list, n):\n",
    "    n= n% len(list)\n",
    "    rotate_list=list[n:]+list[:n]\n",
    "    return rotate_list\n",
    "\n",
    "original_list = [1, 2, 3, 4, 5]\n",
    "rotation_positions = 2\n",
    "\n",
    "rotated_list = rotate_left(original_list, rotation_positions)\n",
    "print(rotated_list)"
   ]
  },
  {
   "cell_type": "markdown",
   "id": "29016e0d",
   "metadata": {},
   "source": [
    "32. Rotate a list to the right by `n` positions."
   ]
  },
  {
   "cell_type": "code",
   "execution_count": 52,
   "id": "70f177db",
   "metadata": {},
   "outputs": [
    {
     "name": "stdout",
     "output_type": "stream",
     "text": [
      "[4, 5, 1, 2, 3]\n"
     ]
    }
   ],
   "source": [
    "def rotate_right(list, n):\n",
    "    n= n % len(list)\n",
    "    rotate_list=list[-n:]+list[:-n]\n",
    "    return rotate_list\n",
    "\n",
    "original_list = [1, 2, 3, 4, 5]\n",
    "rotation_positions = 2\n",
    "\n",
    "rotated_list = rotate_right(original_list, rotation_positions)\n",
    "print(rotated_list)"
   ]
  },
  {
   "cell_type": "markdown",
   "id": "0dd7fa87",
   "metadata": {},
   "source": [
    "33. Create a list of prime numbers up to 50."
   ]
  },
  {
   "cell_type": "code",
   "execution_count": null,
   "id": "3ffd0280",
   "metadata": {},
   "outputs": [],
   "source": [
    "def is_prime(num):\n",
    "    if num < 2:\n",
    "        return False\n",
    "    for i in range(2, int(num**0.5) + 1):\n",
    "        if num % i == 0:\n",
    "            return False\n",
    "    return True\n",
    "prime_numbers = [num for num in range(2, 51) if is_prime(num)]\n",
    "\n",
    "print(prime_numbers)\n"
   ]
  },
  {
   "cell_type": "markdown",
   "id": "2c0191b1",
   "metadata": {},
   "source": [
    "34. Split a list into chunks of size `n`."
   ]
  },
  {
   "cell_type": "code",
   "execution_count": 2,
   "id": "e1d1041c",
   "metadata": {},
   "outputs": [
    {
     "name": "stdout",
     "output_type": "stream",
     "text": [
      "[[1, 2, 3], [4, 5, 6], [7, 8, 9], [10]]\n"
     ]
    }
   ],
   "source": [
    "def chunk_list(lst, n):\n",
    "    for i in range(0, len(lst), n):\n",
    "        yield lst[i:i + n]\n",
    "my_list = [1, 2, 3, 4, 5, 6, 7, 8, 9, 10]\n",
    "chunk_size = 3\n",
    "chunks = list(chunk_list(my_list, chunk_size))\n",
    "print(chunks)"
   ]
  },
  {
   "cell_type": "markdown",
   "id": "3aa80b3c",
   "metadata": {},
   "source": [
    "35. Find the second largest number in a list."
   ]
  },
  {
   "cell_type": "code",
   "execution_count": 4,
   "id": "0c16659c",
   "metadata": {},
   "outputs": [
    {
     "name": "stdout",
     "output_type": "stream",
     "text": [
      "The second largest number is: 45\n"
     ]
    }
   ],
   "source": [
    "def second_largest(numbers):\n",
    "    unique_numbers = list(set(numbers))\n",
    "    unique_numbers.sort(reverse=True)\n",
    "    if len(unique_numbers) >= 2:\n",
    "        return unique_numbers[1]\n",
    "    else:\n",
    "        return None\n",
    "my_list = [10, 20, 4, 45, 99, 99]\n",
    "second_largest_num = second_largest(my_list)\n",
    "print(\"The second largest number is:\", second_largest_num)\n"
   ]
  },
  {
   "cell_type": "markdown",
   "id": "023ab6dc",
   "metadata": {},
   "source": [
    "36. Replace every element in a list with its square."
   ]
  },
  {
   "cell_type": "code",
   "execution_count": 27,
   "id": "419a2a77",
   "metadata": {},
   "outputs": [
    {
     "name": "stdout",
     "output_type": "stream",
     "text": [
      "Original list: [1, 2, 3, 4, 5]\n",
      "Squared list: [1, 4, 9, 16, 25]\n"
     ]
    }
   ],
   "source": [
    "def square_elements(input_list):\n",
    "    return [x**2 for x in input_list]\n",
    "original_list = [1, 2, 3, 4, 5]\n",
    "squared_list = square_elements(original_list)\n",
    "print(\"Original list:\", original_list)\n",
    "print(\"Squared list:\", squared_list)"
   ]
  },
  {
   "cell_type": "markdown",
   "id": "f2f1f2c1",
   "metadata": {},
   "source": [
    "37. Convert a list to a dictionary where list elements become keys and their\n",
    "indices become values."
   ]
  },
  {
   "cell_type": "code",
   "execution_count": 28,
   "id": "2d81e0d3",
   "metadata": {},
   "outputs": [
    {
     "name": "stdout",
     "output_type": "stream",
     "text": [
      "Original list: ['a', 'b', 'c', 'd']\n",
      "Resulting dictionary: {'a': 0, 'b': 1, 'c': 2, 'd': 3}\n"
     ]
    }
   ],
   "source": [
    "def list_to_dict(input_list):\n",
    "    return {element: index for index, element in enumerate(input_list)}\n",
    "original_list = ['a', 'b', 'c', 'd']\n",
    "result_dict = list_to_dict(original_list)\n",
    "print(\"Original list:\", original_list)\n",
    "print(\"Resulting dictionary:\", result_dict)"
   ]
  },
  {
   "cell_type": "markdown",
   "id": "4d368572",
   "metadata": {},
   "source": [
    "38. Shuffle the elements of a list randomly."
   ]
  },
  {
   "cell_type": "code",
   "execution_count": 29,
   "id": "8e73217e",
   "metadata": {},
   "outputs": [
    {
     "name": "stdout",
     "output_type": "stream",
     "text": [
      "Original list: [1, 2, 3, 4, 5]\n",
      "Shuffled list: [3, 4, 5, 2, 1]\n"
     ]
    }
   ],
   "source": [
    "import random\n",
    "def shuffle_list(input_list):\n",
    "    random.shuffle(input_list)\n",
    "    return input_list\n",
    "original_list = [1, 2, 3, 4, 5]\n",
    "shuffled_list = shuffle_list(original_list[:]) \n",
    "print(\"Original list:\", original_list)\n",
    "print(\"Shuffled list:\", shuffled_list)\n"
   ]
  },
  {
   "cell_type": "markdown",
   "id": "fae98522",
   "metadata": {},
   "source": [
    "39. Create a list of the first 10 factorial numbers."
   ]
  },
  {
   "cell_type": "code",
   "execution_count": 30,
   "id": "5c25d543",
   "metadata": {},
   "outputs": [
    {
     "name": "stdout",
     "output_type": "stream",
     "text": [
      "The first 10 factorial numbers are: [1, 1, 2, 6, 24, 120, 720, 5040, 40320, 362880]\n"
     ]
    }
   ],
   "source": [
    "def factorial(n):\n",
    "    if n == 0 or n == 1:\n",
    "        return 1\n",
    "    else:\n",
    "        return n * factorial(n - 1)\n",
    "def first_10_factorials():\n",
    "    return [factorial(i) for i in range(10)]\n",
    "factorial_list = first_10_factorials()\n",
    "print(\"The first 10 factorial numbers are:\", factorial_list)"
   ]
  },
  {
   "cell_type": "markdown",
   "id": "7495f2d6",
   "metadata": {},
   "source": [
    "40. Check if two lists have at least one element in common."
   ]
  },
  {
   "cell_type": "code",
   "execution_count": 32,
   "id": "65cf6968",
   "metadata": {},
   "outputs": [
    {
     "name": "stdout",
     "output_type": "stream",
     "text": [
      "List1 and List2 have a common element: True\n",
      "List1 and List3 have a common element: False\n"
     ]
    }
   ],
   "source": [
    "def have_common_element(list1, list2):\n",
    "    set1 = set(list1)\n",
    "    set2 = set(list2)\n",
    "    return not set1.isdisjoint(set2)\n",
    "list1 = [1, 2, 3, 4, 5]\n",
    "list2 = [5, 6, 7, 8, 9]\n",
    "list3 = [10, 11, 12]\n",
    "print(\"List1 and List2 have a common element:\", have_common_element(list1, list2))\n",
    "print(\"List1 and List3 have a common element:\", have_common_element(list1, list3))"
   ]
  },
  {
   "cell_type": "markdown",
   "id": "ff9e73f5",
   "metadata": {},
   "source": [
    "41. Remove all elements from a list."
   ]
  },
  {
   "cell_type": "code",
   "execution_count": 33,
   "id": "0d5485ac",
   "metadata": {},
   "outputs": [
    {
     "name": "stdout",
     "output_type": "stream",
     "text": [
      "List after removal: []\n"
     ]
    }
   ],
   "source": [
    "def remove_all_elements(lst):\n",
    "    lst[:] = []\n",
    "my_list = [1, 2, 3, 4, 5]\n",
    "remove_all_elements(my_list)\n",
    "print(\"List after removal:\", my_list)"
   ]
  },
  {
   "cell_type": "markdown",
   "id": "cb3050c2",
   "metadata": {},
   "source": [
    "42. Replace negative numbers in a list with 0."
   ]
  },
  {
   "cell_type": "code",
   "execution_count": 34,
   "id": "e9fb4897",
   "metadata": {},
   "outputs": [
    {
     "name": "stdout",
     "output_type": "stream",
     "text": [
      "Original list: [1, -2, 3, -4, 5, -6]\n",
      "Modified list: [1, 0, 3, 0, 5, 0]\n"
     ]
    }
   ],
   "source": [
    "def replace_negatives_with_zero(input_list):\n",
    "    return [0 if x < 0 else x for x in input_list]\n",
    "original_list = [1, -2, 3, -4, 5, -6]\n",
    "modified_list = replace_negatives_with_zero(original_list)\n",
    "print(\"Original list:\", original_list)\n",
    "print(\"Modified list:\", modified_list)"
   ]
  },
  {
   "cell_type": "markdown",
   "id": "e638fa05",
   "metadata": {},
   "source": [
    "43. Convert a string into a list of words."
   ]
  },
  {
   "cell_type": "code",
   "execution_count": 35,
   "id": "3bc86cc2",
   "metadata": {},
   "outputs": [
    {
     "name": "stdout",
     "output_type": "stream",
     "text": [
      "Original string: Hello world! This is a test string.\n",
      "List of words: ['Hello', 'world!', 'This', 'is', 'a', 'test', 'string.']\n"
     ]
    }
   ],
   "source": [
    "def string_to_word_list(input_string):\n",
    "    return input_string.split()\n",
    "input_string = \"Hello world! This is a test string.\"\n",
    "word_list = string_to_word_list(input_string)\n",
    "print(\"Original string:\", input_string)\n",
    "print(\"List of words:\", word_list)\n"
   ]
  },
  {
   "cell_type": "markdown",
   "id": "59b6131a",
   "metadata": {},
   "source": [
    "44. Convert a list of words into a string."
   ]
  },
  {
   "cell_type": "code",
   "execution_count": 36,
   "id": "0eed32e5",
   "metadata": {},
   "outputs": [
    {
     "name": "stdout",
     "output_type": "stream",
     "text": [
      "List of words: ['Hello', 'world!', 'This', 'is', 'a', 'test', 'string.']\n",
      "Resulting string: Hello world! This is a test string.\n"
     ]
    }
   ],
   "source": [
    "def list_to_string(word_list):\n",
    "    return ' '.join(word_list)\n",
    "word_list = ['Hello', 'world!', 'This', 'is', 'a', 'test', 'string.']\n",
    "result_string = list_to_string(word_list)\n",
    "print(\"List of words:\", word_list)\n",
    "print(\"Resulting string:\", result_string)\n"
   ]
  },
  {
   "cell_type": "markdown",
   "id": "0e6e1541",
   "metadata": {},
   "source": [
    "45. Create a list of the first `n` powers of 2."
   ]
  },
  {
   "cell_type": "code",
   "execution_count": 37,
   "id": "9a223bda",
   "metadata": {},
   "outputs": [
    {
     "name": "stdout",
     "output_type": "stream",
     "text": [
      "The first 10 powers of 2 are: [1, 2, 4, 8, 16, 32, 64, 128, 256, 512]\n"
     ]
    }
   ],
   "source": [
    "def powers_of_two(n):\n",
    "    return [2**i for i in range(n)]\n",
    "n = 10\n",
    "powers_list = powers_of_two(n)\n",
    "print(f\"The first {n} powers of 2 are:\", powers_list)"
   ]
  },
  {
   "cell_type": "markdown",
   "id": "61d7c986",
   "metadata": {},
   "source": [
    "46. Find the longest string in a list of strings."
   ]
  },
  {
   "cell_type": "code",
   "execution_count": 38,
   "id": "0866a675",
   "metadata": {},
   "outputs": [
    {
     "name": "stdout",
     "output_type": "stream",
     "text": [
      "List of strings: ['short', 'medium length', 'a very long string indeed', 'tiny']\n",
      "Longest string: a very long string indeed\n"
     ]
    }
   ],
   "source": [
    "def find_longest_string(strings_list):\n",
    "    if not strings_list:\n",
    "        return None\n",
    "    return max(strings_list, key=len)\n",
    "strings_list = [\"short\", \"medium length\", \"a very long string indeed\", \"tiny\"]\n",
    "longest_string = find_longest_string(strings_list)\n",
    "print(\"List of strings:\", strings_list)\n",
    "print(\"Longest string:\", longest_string)"
   ]
  },
  {
   "cell_type": "markdown",
   "id": "c7e88ee9",
   "metadata": {},
   "source": [
    "47. Find the shortest string in a list of strings."
   ]
  },
  {
   "cell_type": "code",
   "execution_count": 39,
   "id": "893eec63",
   "metadata": {},
   "outputs": [
    {
     "name": "stdout",
     "output_type": "stream",
     "text": [
      "List of strings: ['short', 'medium length', 'tiny', 'a very long string indeed']\n",
      "Shortest string: tiny\n"
     ]
    }
   ],
   "source": [
    "def find_shortest_string(strings_list):\n",
    "    if not strings_list:\n",
    "        return None\n",
    "    return min(strings_list, key=len)\n",
    "strings_list = [\"short\", \"medium length\", \"tiny\", \"a very long string indeed\"]\n",
    "shortest_string = find_shortest_string(strings_list)\n",
    "print(\"List of strings:\", strings_list)\n",
    "print(\"Shortest string:\", shortest_string)"
   ]
  },
  {
   "cell_type": "markdown",
   "id": "ce61523c",
   "metadata": {},
   "source": [
    "48. Create a list of the first `n` triangular numbers."
   ]
  },
  {
   "cell_type": "code",
   "execution_count": 40,
   "id": "bf018c44",
   "metadata": {},
   "outputs": [
    {
     "name": "stdout",
     "output_type": "stream",
     "text": [
      "The first 10 triangular numbers are: [1, 3, 6, 10, 15, 21, 28, 36, 45, 55]\n"
     ]
    }
   ],
   "source": [
    "def triangular_numbers(n):\n",
    "    return [i * (i + 1) // 2 for i in range(1, n + 1)]\n",
    "n = 10\n",
    "triangular_list = triangular_numbers(n)\n",
    "print(f\"The first {n} triangular numbers are:\", triangular_list)"
   ]
  },
  {
   "cell_type": "markdown",
   "id": "79368ac4",
   "metadata": {},
   "source": [
    "49. Check if a list contains another list as a subsequence."
   ]
  },
  {
   "cell_type": "code",
   "execution_count": 41,
   "id": "549c64eb",
   "metadata": {},
   "outputs": [
    {
     "name": "stdout",
     "output_type": "stream",
     "text": [
      "Is sub_list a subsequence of main_list? True\n",
      "Is not_sub_list a subsequence of main_list? False\n"
     ]
    }
   ],
   "source": [
    "def is_subsequence(main_list, sub_list):\n",
    "    iter_main = iter(main_list)\n",
    "    return all(item in iter_main for item in sub_list)\n",
    "main_list = [1, 2, 3, 4, 5, 6]\n",
    "sub_list = [2, 4, 6]\n",
    "not_sub_list = [2, 5, 7]\n",
    "print(\"Is sub_list a subsequence of main_list?\", is_subsequence(main_list, sub_list))\n",
    "print(\"Is not_sub_list a subsequence of main_list?\", is_subsequence(main_list, not_sub_list))\n"
   ]
  },
  {
   "cell_type": "markdown",
   "id": "3ca65598",
   "metadata": {},
   "source": [
    "50. Swap two elements in a list by their indices."
   ]
  },
  {
   "cell_type": "code",
   "execution_count": 42,
   "id": "cb075009",
   "metadata": {},
   "outputs": [
    {
     "name": "stdout",
     "output_type": "stream",
     "text": [
      "List after swapping: [10, 40, 30, 20, 50]\n"
     ]
    }
   ],
   "source": [
    "def swap_elements(lst, index1, index2):\n",
    "    if index1 < 0 or index1 >= len(lst) or index2 < 0 or index2 >= len(lst):\n",
    "        raise IndexError(\"Index out of range\")\n",
    "    lst[index1], lst[index2] = lst[index2], lst[index1]\n",
    "my_list = [10, 20, 30, 40, 50]\n",
    "swap_elements(my_list, 1, 3)\n",
    "print(\"List after swapping:\", my_list)"
   ]
  },
  {
   "cell_type": "markdown",
   "id": "0108c432",
   "metadata": {},
   "source": [
    "# Tuple Based Practice Problem :"
   ]
  },
  {
   "cell_type": "markdown",
   "id": "08085b97",
   "metadata": {},
   "source": [
    "1. Create a tuple with integers from 1 to 5."
   ]
  },
  {
   "cell_type": "code",
   "execution_count": 1,
   "id": "d7870984",
   "metadata": {},
   "outputs": [
    {
     "name": "stdout",
     "output_type": "stream",
     "text": [
      "Tuple with integers from 1 to 5: (1, 2, 3, 4, 5)\n"
     ]
    }
   ],
   "source": [
    "def create_tuple():\n",
    "    return tuple(range(1, 6))\n",
    "my_tuple = create_tuple()\n",
    "print(\"Tuple with integers from 1 to 5:\", my_tuple)"
   ]
  },
  {
   "cell_type": "markdown",
   "id": "1ce165df",
   "metadata": {},
   "source": [
    "2. Access the third element of a tuple."
   ]
  },
  {
   "cell_type": "code",
   "execution_count": 2,
   "id": "ae73e6c8",
   "metadata": {},
   "outputs": [
    {
     "name": "stdout",
     "output_type": "stream",
     "text": [
      "The third element of the tuple is: 3\n"
     ]
    }
   ],
   "source": [
    "def access_third_element(tpl):\n",
    "    if len(tpl) < 3:\n",
    "        raise IndexError(\"Tuple does not have a third element\")\n",
    "    return tpl[2]\n",
    "my_tuple = (1, 2, 3, 4, 5)\n",
    "third_element = access_third_element(my_tuple)\n",
    "print(\"The third element of the tuple is:\", third_element)"
   ]
  },
  {
   "cell_type": "markdown",
   "id": "cddef15a",
   "metadata": {},
   "source": [
    "3. Find the length of a tuple without using the `len()` function."
   ]
  },
  {
   "cell_type": "code",
   "execution_count": 3,
   "id": "b02c54e3",
   "metadata": {},
   "outputs": [
    {
     "name": "stdout",
     "output_type": "stream",
     "text": [
      "The length of the tuple is: 5\n"
     ]
    }
   ],
   "source": [
    "def tuple_length(tpl):\n",
    "    count = 0\n",
    "    for _ in tpl:\n",
    "        count += 1\n",
    "    return count\n",
    "my_tuple = (1, 2, 3, 4, 5)\n",
    "length = tuple_length(my_tuple)\n",
    "print(\"The length of the tuple is:\", length)"
   ]
  },
  {
   "cell_type": "markdown",
   "id": "1b2b0eea",
   "metadata": {},
   "source": [
    "4. Count the occurrences of an element in a tuple."
   ]
  },
  {
   "cell_type": "code",
   "execution_count": 4,
   "id": "4995df8b",
   "metadata": {},
   "outputs": [
    {
     "name": "stdout",
     "output_type": "stream",
     "text": [
      "The element 2 occurs 3 times in the tuple.\n"
     ]
    }
   ],
   "source": [
    "def count_occurrences(tpl, element):\n",
    "    count = 0\n",
    "    for item in tpl:\n",
    "        if item == element:\n",
    "            count += 1\n",
    "    return count\n",
    "my_tuple = (1, 2, 3, 2, 4, 2, 5)\n",
    "element = 2\n",
    "occurrences = count_occurrences(my_tuple, element)\n",
    "print(f\"The element {element} occurs {occurrences} times in the tuple.\")"
   ]
  },
  {
   "cell_type": "markdown",
   "id": "6011f696",
   "metadata": {},
   "source": [
    "5. Find the index of the first occurrence of an element in a tuple."
   ]
  },
  {
   "cell_type": "code",
   "execution_count": 6,
   "id": "ac1f30df",
   "metadata": {},
   "outputs": [
    {
     "name": "stdout",
     "output_type": "stream",
     "text": [
      "The first occurrence of the element 2 is at index 1.\n"
     ]
    }
   ],
   "source": [
    "def find_first_occurrence(tpl, element):\n",
    "    for index, item in enumerate(tpl):\n",
    "        if item == element:\n",
    "            return index\n",
    "    return -1\n",
    "my_tuple = (1, 2, 3, 2, 4, 2, 5)\n",
    "element = 2\n",
    "first_index = find_first_occurrence(my_tuple, element)\n",
    "print(f\"The first occurrence of the element {element} is at index {first_index}.\")"
   ]
  },
  {
   "cell_type": "markdown",
   "id": "2121ae0c",
   "metadata": {},
   "source": [
    "6. Check if an element exists in a tuple."
   ]
  },
  {
   "cell_type": "code",
   "execution_count": 9,
   "id": "3d385b45",
   "metadata": {},
   "outputs": [
    {
     "name": "stdout",
     "output_type": "stream",
     "text": [
      "Does the element 10 exist in the tuple? False\n"
     ]
    }
   ],
   "source": [
    "def element_exists(tpl, element):\n",
    "    return element in tpl\n",
    "my_tuple = (1, 2, 3, 4, 5)\n",
    "element = int(input(\"Enter the element\"))\n",
    "exists = element_exists(my_tuple, element)\n",
    "print(f\"Does the element {element} exist in the tuple? {exists}\")"
   ]
  },
  {
   "cell_type": "markdown",
   "id": "0d91eda5",
   "metadata": {},
   "source": [
    "7. Convert a tuple to a list."
   ]
  },
  {
   "cell_type": "code",
   "execution_count": 15,
   "id": "c697fd28",
   "metadata": {},
   "outputs": [
    {
     "name": "stdout",
     "output_type": "stream",
     "text": [
      "Tuple: (1, 2, 3, 4, 5)\n",
      "Converted list: [1, 2, 3, 4, 5]\n"
     ]
    }
   ],
   "source": [
    "def tuple_to_list(tpl):\n",
    "    return list(tpl)\n",
    "my_tuple = (1, 2, 3, 4, 5)\n",
    "my_list = tuple_to_list(my_tuple)\n",
    "print(\"Tuple:\", my_tuple)\n",
    "print(\"Converted list:\", my_list)"
   ]
  },
  {
   "cell_type": "markdown",
   "id": "b5c841b5",
   "metadata": {},
   "source": [
    "8. Convert a list to a tuple."
   ]
  },
  {
   "cell_type": "code",
   "execution_count": 17,
   "id": "fe3b0e9a",
   "metadata": {},
   "outputs": [
    {
     "name": "stdout",
     "output_type": "stream",
     "text": [
      "List: [1, 2, 3, 4, 5]\n",
      "Converted tuple: (1, 2, 3, 4, 5)\n"
     ]
    }
   ],
   "source": [
    "def list_to_tuple(lst):\n",
    "    return tuple(lst)\n",
    "my_list = [1, 2, 3, 4, 5]\n",
    "my_tuple = list_to_tuple(my_list)\n",
    "print(\"List:\", my_list)\n",
    "print(\"Converted tuple:\", my_tuple)"
   ]
  },
  {
   "cell_type": "markdown",
   "id": "cc50e1e4",
   "metadata": {},
   "source": [
    "9. Unpack the elements of a tuple into variables."
   ]
  },
  {
   "cell_type": "code",
   "execution_count": 18,
   "id": "75ef2989",
   "metadata": {},
   "outputs": [
    {
     "name": "stdout",
     "output_type": "stream",
     "text": [
      "Unpacked variables:\n",
      "a: 1\n",
      "b: 2\n",
      "c: 3\n"
     ]
    }
   ],
   "source": [
    "def unpack_tuple(tpl):\n",
    "    if len(tpl) != 3:\n",
    "        raise ValueError(\"The function expects a tuple with exactly 3 elements\")\n",
    "    a, b, c = tpl\n",
    "    return a, b, c\n",
    "my_tuple = (1, 2, 3)\n",
    "a, b, c = unpack_tuple(my_tuple)\n",
    "print(\"Unpacked variables:\")\n",
    "print(\"a:\", a)\n",
    "print(\"b:\", b)\n",
    "print(\"c:\", c)"
   ]
  },
  {
   "cell_type": "markdown",
   "id": "8d562838",
   "metadata": {},
   "source": [
    "10. Create a tuple of even numbers from 1 to 10."
   ]
  },
  {
   "cell_type": "code",
   "execution_count": 20,
   "id": "e460279a",
   "metadata": {},
   "outputs": [
    {
     "name": "stdout",
     "output_type": "stream",
     "text": [
      "Tuple of even numbers from 1 to 10: (2, 4, 6, 8, 10)\n"
     ]
    }
   ],
   "source": [
    "def create_even_tuple():\n",
    "    even_numbers = [num for num in range(1, 11) if num % 2 == 0]\n",
    "    return tuple(even_numbers)\n",
    "even_tuple = create_even_tuple()\n",
    "print(\"Tuple of even numbers from 1 to 10:\", even_tuple)"
   ]
  },
  {
   "cell_type": "markdown",
   "id": "ccd024ca",
   "metadata": {},
   "source": [
    "11. Create a tuple of odd numbers from 1 to 10."
   ]
  },
  {
   "cell_type": "code",
   "execution_count": 19,
   "id": "2c44bcfe",
   "metadata": {},
   "outputs": [
    {
     "name": "stdout",
     "output_type": "stream",
     "text": [
      "Tuple of odd numbers from 1 to 10: (1, 3, 5, 7, 9)\n"
     ]
    }
   ],
   "source": [
    "def create_odd_tuple():\n",
    "    odd_numbers = [num for num in range(1, 11) if num % 2 != 0]\n",
    "    return tuple(odd_numbers)\n",
    "odd_tuple = create_odd_tuple()\n",
    "print(\"Tuple of odd numbers from 1 to 10:\", odd_tuple)"
   ]
  },
  {
   "cell_type": "markdown",
   "id": "d18b27b0",
   "metadata": {},
   "source": [
    "12. Concatenate two tuples."
   ]
  },
  {
   "cell_type": "code",
   "execution_count": 21,
   "id": "f3f0f339",
   "metadata": {},
   "outputs": [
    {
     "name": "stdout",
     "output_type": "stream",
     "text": [
      "First tuple: (1, 2, 3)\n",
      "Second tuple: (4, 5, 6)\n",
      "Concatenated tuple: (1, 2, 3, 4, 5, 6)\n"
     ]
    }
   ],
   "source": [
    "def concatenate_tuples(tuple1, tuple2):\n",
    "    return tuple1 + tuple2\n",
    "tuple1 = (1, 2, 3)\n",
    "tuple2 = (4, 5, 6)\n",
    "concatenated_tuple = concatenate_tuples(tuple1, tuple2)\n",
    "print(\"First tuple:\", tuple1)\n",
    "print(\"Second tuple:\", tuple2)\n",
    "print(\"Concatenated tuple:\", concatenated_tuple)"
   ]
  },
  {
   "cell_type": "markdown",
   "id": "91f16efd",
   "metadata": {},
   "source": [
    "13. Repeat a tuple three times."
   ]
  },
  {
   "cell_type": "code",
   "execution_count": 22,
   "id": "735e1842",
   "metadata": {},
   "outputs": [
    {
     "name": "stdout",
     "output_type": "stream",
     "text": [
      "Original tuple: (1, 2, 3)\n",
      "Repeated tuple: (1, 2, 3, 1, 2, 3, 1, 2, 3)\n"
     ]
    }
   ],
   "source": [
    "def repeat_tuple(tpl):\n",
    "    return tpl * 3\n",
    "my_tuple = (1, 2, 3)\n",
    "repeated_tuple = repeat_tuple(my_tuple)\n",
    "print(\"Original tuple:\", my_tuple)\n",
    "print(\"Repeated tuple:\", repeated_tuple)"
   ]
  },
  {
   "cell_type": "markdown",
   "id": "18864711",
   "metadata": {},
   "source": [
    "14. Check if a tuple is empty."
   ]
  },
  {
   "cell_type": "code",
   "execution_count": 23,
   "id": "2a23d670",
   "metadata": {},
   "outputs": [
    {
     "name": "stdout",
     "output_type": "stream",
     "text": [
      "Is the first tuple empty? True\n",
      "Is the second tuple empty? False\n"
     ]
    }
   ],
   "source": [
    "def is_tuple_empty(tpl):\n",
    "    return tpl == ()\n",
    "empty_tuple = ()\n",
    "non_empty_tuple = (1, 2, 3)\n",
    "print(\"Is the first tuple empty?\", is_tuple_empty(empty_tuple))\n",
    "print(\"Is the second tuple empty?\", is_tuple_empty(non_empty_tuple))"
   ]
  },
  {
   "cell_type": "markdown",
   "id": "01b0834a",
   "metadata": {},
   "source": [
    "15. Create a nested tuple."
   ]
  },
  {
   "cell_type": "code",
   "execution_count": 24,
   "id": "58ffc502",
   "metadata": {},
   "outputs": [
    {
     "name": "stdout",
     "output_type": "stream",
     "text": [
      "Nested tuple: ((1, 2, 3), (4, 5, 6), (7, 8, 9))\n"
     ]
    }
   ],
   "source": [
    "def create_nested_tuple():\n",
    "    inner_tuple1 = (1, 2, 3)\n",
    "    inner_tuple2 = (4, 5, 6)\n",
    "    inner_tuple3 = (7, 8, 9)\n",
    "    nested_tuple = (inner_tuple1, inner_tuple2, inner_tuple3)\n",
    "    return nested_tuple\n",
    "nested_tuple = create_nested_tuple()\n",
    "print(\"Nested tuple:\", nested_tuple)"
   ]
  },
  {
   "cell_type": "markdown",
   "id": "3955d6b9",
   "metadata": {},
   "source": [
    "16. Access the first element of a nested tuple."
   ]
  },
  {
   "cell_type": "code",
   "execution_count": 25,
   "id": "10d9b30d",
   "metadata": {},
   "outputs": [
    {
     "name": "stdout",
     "output_type": "stream",
     "text": [
      "The first element of the nested tuple is: 1\n"
     ]
    }
   ],
   "source": [
    "def access_first_element_of_nested_tuple(nested_tpl):\n",
    "    first_inner_tuple = nested_tpl[0]\n",
    "    first_element = first_inner_tuple[0]\n",
    "    return first_element\n",
    "nested_tuple = ((1, 2, 3), (4, 5, 6), (7, 8, 9))\n",
    "first_element = access_first_element_of_nested_tuple(nested_tuple)\n",
    "print(\"The first element of the nested tuple is:\", first_element)"
   ]
  },
  {
   "cell_type": "markdown",
   "id": "528e37c2",
   "metadata": {},
   "source": [
    "17. Create a tuple with a single element."
   ]
  },
  {
   "cell_type": "code",
   "execution_count": 26,
   "id": "948b3628",
   "metadata": {},
   "outputs": [
    {
     "name": "stdout",
     "output_type": "stream",
     "text": [
      "Tuple with a single element: (42,)\n"
     ]
    }
   ],
   "source": [
    "def create_single_element_tuple(element):\n",
    "    return (element,)\n",
    "single_element_tuple = create_single_element_tuple(42)\n",
    "print(\"Tuple with a single element:\", single_element_tuple)"
   ]
  },
  {
   "cell_type": "markdown",
   "id": "9ef6c5e4",
   "metadata": {},
   "source": [
    "18. Compare two tuples."
   ]
  },
  {
   "cell_type": "code",
   "execution_count": 27,
   "id": "e4bc3697",
   "metadata": {},
   "outputs": [
    {
     "name": "stdout",
     "output_type": "stream",
     "text": [
      "Comparison results:\n",
      "(1, 2, 3) == (1, 2, 4): False\n",
      "(1, 2, 3) != (1, 2, 4): True\n",
      "(1, 2, 3) < (1, 2, 4): True\n",
      "(1, 2, 3) > (1, 2, 4): False\n",
      "(1, 2, 3) <= (1, 2, 4): True\n",
      "(1, 2, 3) >= (1, 2, 4): False\n"
     ]
    }
   ],
   "source": [
    "def compare_tuples(tuple1, tuple2):\n",
    "    comparison_results = {\n",
    "        '==': tuple1 == tuple2,\n",
    "        '!=': tuple1 != tuple2,\n",
    "        '<': tuple1 < tuple2,\n",
    "        '>': tuple1 > tuple2,\n",
    "        '<=': tuple1 <= tuple2,\n",
    "        '>=': tuple1 >= tuple2,\n",
    "    }\n",
    "    return comparison_results\n",
    "tuple1 = (1, 2, 3)\n",
    "tuple2 = (1, 2, 4)\n",
    "results = compare_tuples(tuple1, tuple2)\n",
    "print(\"Comparison results:\")\n",
    "for operator, result in results.items():\n",
    "    print(f\"{tuple1} {operator} {tuple2}: {result}\")"
   ]
  },
  {
   "cell_type": "markdown",
   "id": "50c75dab",
   "metadata": {},
   "source": [
    "19. Delete a tuple."
   ]
  },
  {
   "cell_type": "code",
   "execution_count": 28,
   "id": "a1af4731",
   "metadata": {},
   "outputs": [
    {
     "name": "stdout",
     "output_type": "stream",
     "text": [
      "Before deletion: (1, 2, 3)\n",
      "The variable 'my_tuple' has been deleted.\n"
     ]
    }
   ],
   "source": [
    "def delete_tuple(variable_name):\n",
    "    global_vars = globals()\n",
    "    if variable_name in global_vars:\n",
    "        del global_vars[variable_name]\n",
    "    else:\n",
    "        print(f\"Variable '{variable_name}' not found.\")\n",
    "my_tuple = (1, 2, 3)\n",
    "print(\"Before deletion:\", my_tuple)\n",
    "delete_tuple('my_tuple')\n",
    "try:\n",
    "    print(\"After deletion:\", my_tuple)\n",
    "except NameError:\n",
    "    print(\"The variable 'my_tuple' has been deleted.\")"
   ]
  },
  {
   "cell_type": "markdown",
   "id": "73be8ea4",
   "metadata": {},
   "source": [
    "20. Slice a tuple."
   ]
  },
  {
   "cell_type": "code",
   "execution_count": 29,
   "id": "b77fef4f",
   "metadata": {},
   "outputs": [
    {
     "name": "stdout",
     "output_type": "stream",
     "text": [
      "Original tuple: (10, 20, 30, 40, 50, 60, 70, 80, 90, 100)\n",
      "Sliced tuple: (30, 50, 70)\n"
     ]
    }
   ],
   "source": [
    "def slice_tuple(tpl, start, stop, step=1):\n",
    "    return tpl[start:stop:step]\n",
    "my_tuple = (10, 20, 30, 40, 50, 60, 70, 80, 90, 100)\n",
    "sliced_tuple = slice_tuple(my_tuple, 2, 7, 2)\n",
    "print(\"Original tuple:\", my_tuple)\n",
    "print(\"Sliced tuple:\", sliced_tuple)"
   ]
  },
  {
   "cell_type": "markdown",
   "id": "a8fc31af",
   "metadata": {},
   "source": [
    "21. Find the maximum value in a tuple."
   ]
  },
  {
   "cell_type": "code",
   "execution_count": 30,
   "id": "57a5c30e",
   "metadata": {},
   "outputs": [
    {
     "name": "stdout",
     "output_type": "stream",
     "text": [
      "Tuple: (10, 20, 30, 40, 50)\n",
      "Maximum value: 50\n"
     ]
    }
   ],
   "source": [
    "def find_max_in_tuple(tpl):\n",
    "    return max(tpl)\n",
    "my_tuple = (10, 20, 30, 40, 50)\n",
    "max_value = find_max_in_tuple(my_tuple)\n",
    "print(\"Tuple:\", my_tuple)\n",
    "print(\"Maximum value:\", max_value)"
   ]
  },
  {
   "cell_type": "markdown",
   "id": "624a8649",
   "metadata": {},
   "source": [
    "22. Find the minimum value in a tuple."
   ]
  },
  {
   "cell_type": "code",
   "execution_count": 32,
   "id": "280968db",
   "metadata": {},
   "outputs": [
    {
     "name": "stdout",
     "output_type": "stream",
     "text": [
      "Tuple: (10, 20, 30, 40, 50)\n",
      "Minimum value: 10\n"
     ]
    }
   ],
   "source": [
    "def find_min_in_tuple(tpl):\n",
    "    return min(tpl)\n",
    "my_tuple = (10, 20, 30, 40, 50)\n",
    "max_value = find_min_in_tuple(my_tuple)\n",
    "print(\"Tuple:\", my_tuple)\n",
    "print(\"Minimum value:\", max_value)"
   ]
  },
  {
   "cell_type": "markdown",
   "id": "f40602d1",
   "metadata": {},
   "source": [
    "23. Convert a string to a tuple of characters."
   ]
  },
  {
   "cell_type": "code",
   "execution_count": 34,
   "id": "ff9bde47",
   "metadata": {},
   "outputs": [
    {
     "name": "stdout",
     "output_type": "stream",
     "text": [
      "String: PW SKILLS\n",
      "Tuple of characters: ('P', 'W', ' ', 'S', 'K', 'I', 'L', 'L', 'S')\n"
     ]
    }
   ],
   "source": [
    "def string_to_tuple(s):\n",
    "    return tuple(s)\n",
    "my_string = input(\"Enter the string\")\n",
    "tuple_of_characters = string_to_tuple(my_string)\n",
    "print(\"String:\", my_string)\n",
    "print(\"Tuple of characters:\", tuple_of_characters)"
   ]
  },
  {
   "cell_type": "markdown",
   "id": "f4d019d5",
   "metadata": {},
   "source": [
    "24. Convert a tuple of characters to a string."
   ]
  },
  {
   "cell_type": "code",
   "execution_count": 35,
   "id": "04916b3f",
   "metadata": {},
   "outputs": [
    {
     "name": "stdout",
     "output_type": "stream",
     "text": [
      "Tuple of characters: ('P', 'W', ' ', 'S', 'K', 'I', 'L', 'L', 'S')\n",
      "Converted string: PW SKILLS\n"
     ]
    }
   ],
   "source": [
    "def tuple_to_string(tpl):\n",
    "    return ''.join(tpl)\n",
    "tuple_of_characters = ('P', 'W', ' ', 'S', 'K', 'I', 'L', 'L', 'S')\n",
    "result_string = tuple_to_string(tuple_of_characters)\n",
    "print(\"Tuple of characters:\", tuple_of_characters)\n",
    "print(\"Converted string:\", result_string)"
   ]
  },
  {
   "cell_type": "markdown",
   "id": "e4b79a66",
   "metadata": {},
   "source": [
    "25. Create a tuple from multiple data types."
   ]
  },
  {
   "cell_type": "code",
   "execution_count": 36,
   "id": "e6fa3ce8",
   "metadata": {},
   "outputs": [
    {
     "name": "stdout",
     "output_type": "stream",
     "text": [
      "Tuple with multiple data types: (42, 3.14, 'hello', [1, 2, 3], (4, 5))\n"
     ]
    }
   ],
   "source": [
    "def create_mixed_tuple():\n",
    "    mixed_tuple = (42, 3.14, \"hello\", [1, 2, 3], (4, 5))\n",
    "    return mixed_tuple\n",
    "mixed_tuple = create_mixed_tuple()\n",
    "print(\"Tuple with multiple data types:\", mixed_tuple)"
   ]
  },
  {
   "cell_type": "markdown",
   "id": "f89ce4b0",
   "metadata": {},
   "source": [
    "26. Check if two tuples are identical."
   ]
  },
  {
   "cell_type": "code",
   "execution_count": 37,
   "id": "bccb449b",
   "metadata": {},
   "outputs": [
    {
     "name": "stdout",
     "output_type": "stream",
     "text": [
      "Are tuple1 and tuple2 identical? True\n",
      "Are tuple1 and tuple3 identical? False\n"
     ]
    }
   ],
   "source": [
    "def are_tuples_identical(tuple1, tuple2):\n",
    "    return tuple1 == tuple2\n",
    "tuple1 = (1, 2, 3)\n",
    "tuple2 = (1, 2, 3)\n",
    "tuple3 = (4, 5, 6)\n",
    "print(\"Are tuple1 and tuple2 identical?\", are_tuples_identical(tuple1, tuple2))\n",
    "print(\"Are tuple1 and tuple3 identical?\", are_tuples_identical(tuple1, tuple3))"
   ]
  },
  {
   "cell_type": "markdown",
   "id": "bccd8a6f",
   "metadata": {},
   "source": [
    "27. Sort the elements of a tuple."
   ]
  },
  {
   "cell_type": "code",
   "execution_count": 38,
   "id": "a132afa2",
   "metadata": {},
   "outputs": [
    {
     "name": "stdout",
     "output_type": "stream",
     "text": [
      "Original tuple: (4, 1, 3, 5, 2)\n",
      "Sorted tuple: (1, 2, 3, 4, 5)\n"
     ]
    }
   ],
   "source": [
    "def sort_tuple(tpl):\n",
    "    lst = list(tpl)\n",
    "    lst.sort()\n",
    "    return tuple(lst)\n",
    "my_tuple = (4, 1, 3, 5, 2)\n",
    "sorted_tuple = sort_tuple(my_tuple)\n",
    "print(\"Original tuple:\", my_tuple)\n",
    "print(\"Sorted tuple:\", sorted_tuple)"
   ]
  },
  {
   "cell_type": "markdown",
   "id": "1cf01d20",
   "metadata": {},
   "source": [
    "28. Convert a tuple of integers to a tuple of strings."
   ]
  },
  {
   "cell_type": "code",
   "execution_count": 39,
   "id": "5300c131",
   "metadata": {},
   "outputs": [
    {
     "name": "stdout",
     "output_type": "stream",
     "text": [
      "Tuple of integers: (1, 2, 3, 4, 5)\n",
      "Tuple of strings: ('1', '2', '3', '4', '5')\n"
     ]
    }
   ],
   "source": [
    "def convert_tuple_of_integers_to_strings(tpl):\n",
    "    return tuple(str(x) for x in tpl)\n",
    "tuple_of_integers = (1, 2, 3, 4, 5)\n",
    "tuple_of_strings = convert_tuple_of_integers_to_strings(tuple_of_integers)\n",
    "print(\"Tuple of integers:\", tuple_of_integers)\n",
    "print(\"Tuple of strings:\", tuple_of_strings)"
   ]
  },
  {
   "cell_type": "markdown",
   "id": "bacb45f0",
   "metadata": {},
   "source": [
    "29. Convert a tuple of strings to a tuple of integers."
   ]
  },
  {
   "cell_type": "code",
   "execution_count": 40,
   "id": "3217569a",
   "metadata": {},
   "outputs": [
    {
     "name": "stdout",
     "output_type": "stream",
     "text": [
      "Tuple of strings: ('1', '2', '3', '4', '5')\n",
      "Tuple of integers: (1, 2, 3, 4, 5)\n"
     ]
    }
   ],
   "source": [
    "def convert_tuple_of_strings_to_integers(tpl):\n",
    "    return tuple(int(x) for x in tpl)\n",
    "tuple_of_strings = ('1', '2', '3', '4', '5')\n",
    "tuple_of_integers = convert_tuple_of_strings_to_integers(tuple_of_strings)\n",
    "print(\"Tuple of strings:\", tuple_of_strings)\n",
    "print(\"Tuple of integers:\", tuple_of_integers)"
   ]
  },
  {
   "cell_type": "markdown",
   "id": "12d2efaa",
   "metadata": {},
   "source": [
    "30. Merge two tuples."
   ]
  },
  {
   "cell_type": "code",
   "execution_count": 41,
   "id": "eefd0794",
   "metadata": {},
   "outputs": [
    {
     "name": "stdout",
     "output_type": "stream",
     "text": [
      "Tuple 1: (1, 2, 3)\n",
      "Tuple 2: (4, 5, 6)\n",
      "Merged tuple: (1, 2, 3, 4, 5, 6)\n"
     ]
    }
   ],
   "source": [
    "def merge_tuples(tuple1, tuple2):\n",
    "    return tuple1 + tuple2\n",
    "tuple1 = (1, 2, 3)\n",
    "tuple2 = (4, 5, 6)\n",
    "merged_tuple = merge_tuples(tuple1, tuple2)\n",
    "print(\"Tuple 1:\", tuple1)\n",
    "print(\"Tuple 2:\", tuple2)\n",
    "print(\"Merged tuple:\", merged_tuple)"
   ]
  },
  {
   "cell_type": "markdown",
   "id": "5c891eaf",
   "metadata": {},
   "source": [
    "31. Flatten a nested tuple."
   ]
  },
  {
   "cell_type": "code",
   "execution_count": 44,
   "id": "16096149",
   "metadata": {},
   "outputs": [
    {
     "name": "stdout",
     "output_type": "stream",
     "text": [
      "Nested tuple: (1, (2, 3), (4, (5, 6)), 7)\n",
      "Flattened tuple: (1, 2, 3, 4, 5, 6, 7)\n"
     ]
    }
   ],
   "source": [
    "def flatten_tuple(nested_tuple):\n",
    "    flat_list = []\n",
    "    def flatten(tpl):\n",
    "        for item in tpl:\n",
    "            if isinstance(item, tuple):\n",
    "                flatten(item)\n",
    "            else:\n",
    "                flat_list.append(item)\n",
    "    flatten(nested_tuple)\n",
    "    return tuple(flat_list)\n",
    "nested_tuple = (1, (2, 3), (4, (5, 6)), 7)\n",
    "flattened_tuple = flatten_tuple(nested_tuple)\n",
    "print(\"Nested tuple:\", nested_tuple)\n",
    "print(\"Flattened tuple:\", flattened_tuple)"
   ]
  },
  {
   "cell_type": "markdown",
   "id": "18853364",
   "metadata": {},
   "source": [
    "32. Create a tuple of the first 5 prime numbers."
   ]
  },
  {
   "cell_type": "code",
   "execution_count": 45,
   "id": "526d44b4",
   "metadata": {},
   "outputs": [
    {
     "name": "stdout",
     "output_type": "stream",
     "text": [
      "First 5 prime numbers tuple: (2, 3, 5, 7, 11)\n"
     ]
    }
   ],
   "source": [
    "def first_5_primes():\n",
    "    return (2, 3, 5, 7, 11)\n",
    "primes_tuple = first_5_primes()\n",
    "print(\"First 5 prime numbers tuple:\", primes_tuple)"
   ]
  },
  {
   "cell_type": "markdown",
   "id": "a31168c3",
   "metadata": {},
   "source": [
    "33. Check if a tuple is a palindrome."
   ]
  },
  {
   "cell_type": "code",
   "execution_count": 46,
   "id": "331a75e6",
   "metadata": {},
   "outputs": [
    {
     "name": "stdout",
     "output_type": "stream",
     "text": [
      "Is palindrome_tuple a palindrome? True\n",
      "Is non_palindrome_tuple a palindrome? False\n"
     ]
    }
   ],
   "source": [
    "def is_palindrome(tpl):\n",
    "    return tpl == tpl[::-1]\n",
    "palindrome_tuple = (1, 2, 3, 2, 1)\n",
    "non_palindrome_tuple = (1, 2, 3, 4, 5)\n",
    "print(\"Is palindrome_tuple a palindrome?\", is_palindrome(palindrome_tuple))\n",
    "print(\"Is non_palindrome_tuple a palindrome?\", is_palindrome(non_palindrome_tuple))"
   ]
  },
  {
   "cell_type": "markdown",
   "id": "bff5f8b1",
   "metadata": {},
   "source": [
    "34. Create a tuple of squares of numbers from 1 to 5."
   ]
  },
  {
   "cell_type": "code",
   "execution_count": 47,
   "id": "400fa292",
   "metadata": {},
   "outputs": [
    {
     "name": "stdout",
     "output_type": "stream",
     "text": [
      "Tuple of squares from 1 to 5: (1, 4, 9, 16, 25)\n"
     ]
    }
   ],
   "source": [
    "def squares_tuple():\n",
    "    return tuple(x**2 for x in range(1, 6))\n",
    "squares = squares_tuple()\n",
    "print(\"Tuple of squares from 1 to 5:\", squares)"
   ]
  },
  {
   "cell_type": "markdown",
   "id": "123869e4",
   "metadata": {},
   "source": [
    "35. Filter out all even numbers from a tuple."
   ]
  },
  {
   "cell_type": "code",
   "execution_count": 48,
   "id": "2998bafb",
   "metadata": {},
   "outputs": [
    {
     "name": "stdout",
     "output_type": "stream",
     "text": [
      "Original tuple: (1, 2, 3, 4, 5, 6, 7, 8, 9, 10)\n",
      "Filtered tuple (odd numbers only): (1, 3, 5, 7, 9)\n"
     ]
    }
   ],
   "source": [
    "def filter_even_numbers(tpl):\n",
    "    return tuple(x for x in tpl if x % 2 != 0)\n",
    "original_tuple = (1, 2, 3, 4, 5, 6, 7, 8, 9, 10)\n",
    "filtered_tuple = filter_even_numbers(original_tuple)\n",
    "print(\"Original tuple:\", original_tuple)\n",
    "print(\"Filtered tuple (odd numbers only):\", filtered_tuple)"
   ]
  },
  {
   "cell_type": "markdown",
   "id": "0f48ccbe",
   "metadata": {},
   "source": [
    "36. Multiply all elements in a tuple by 2."
   ]
  },
  {
   "cell_type": "code",
   "execution_count": 49,
   "id": "c989f68b",
   "metadata": {},
   "outputs": [
    {
     "name": "stdout",
     "output_type": "stream",
     "text": [
      "Original tuple: (1, 2, 3, 4, 5)\n",
      "Multiplied tuple: (2, 4, 6, 8, 10)\n"
     ]
    }
   ],
   "source": [
    "def multiply_elements_by_two(tpl):\n",
    "    return tuple(x * 2 for x in tpl)\n",
    "original_tuple = (1, 2, 3, 4, 5)\n",
    "multiplied_tuple = multiply_elements_by_two(original_tuple)\n",
    "print(\"Original tuple:\", original_tuple)\n",
    "print(\"Multiplied tuple:\", multiplied_tuple)"
   ]
  },
  {
   "cell_type": "markdown",
   "id": "08b551ed",
   "metadata": {},
   "source": [
    "37. Create a tuple of random numbers."
   ]
  },
  {
   "cell_type": "code",
   "execution_count": 50,
   "id": "080d5297",
   "metadata": {},
   "outputs": [
    {
     "name": "stdout",
     "output_type": "stream",
     "text": [
      "Tuple of random numbers: (83, 14, 90, 28, 65, 9, 91, 87, 76, 68)\n"
     ]
    }
   ],
   "source": [
    "import random\n",
    "def create_random_numbers_tuple(size, start, end):\n",
    "    return tuple(random.randint(start, end) for _ in range(size))\n",
    "tuple_size = 10\n",
    "random_start = 1\n",
    "random_end = 100\n",
    "random_numbers_tuple = create_random_numbers_tuple(tuple_size, random_start, random_end)\n",
    "print(\"Tuple of random numbers:\", random_numbers_tuple)"
   ]
  },
  {
   "cell_type": "markdown",
   "id": "b7e6d089",
   "metadata": {},
   "source": [
    "38. Check if a tuple is sorted."
   ]
  },
  {
   "cell_type": "code",
   "execution_count": 51,
   "id": "ada8b4e3",
   "metadata": {},
   "outputs": [
    {
     "name": "stdout",
     "output_type": "stream",
     "text": [
      "Is sorted_tuple sorted? True\n",
      "Is unsorted_tuple sorted? False\n"
     ]
    }
   ],
   "source": [
    "def is_tuple_sorted(tpl):\n",
    "    return tpl == tuple(sorted(tpl))\n",
    "sorted_tuple = (1, 2, 3, 4, 5)\n",
    "unsorted_tuple = (5, 3, 1, 4, 2)\n",
    "print(\"Is sorted_tuple sorted?\", is_tuple_sorted(sorted_tuple))\n",
    "print(\"Is unsorted_tuple sorted?\", is_tuple_sorted(unsorted_tuple))"
   ]
  },
  {
   "cell_type": "markdown",
   "id": "b05459e5",
   "metadata": {},
   "source": [
    "39. Rotate a tuple to the left by `n` positions."
   ]
  },
  {
   "cell_type": "code",
   "execution_count": 52,
   "id": "072b6ef9",
   "metadata": {},
   "outputs": [
    {
     "name": "stdout",
     "output_type": "stream",
     "text": [
      "Original tuple: (1, 2, 3, 4, 5)\n",
      "Rotated tuple: (3, 4, 5, 1, 2)\n"
     ]
    }
   ],
   "source": [
    "def rotate_tuple_left(tpl, n):\n",
    "    n = n % len(tpl)\n",
    "    return tpl[n:] + tpl[:n]\n",
    "original_tuple = (1, 2, 3, 4, 5)\n",
    "rotated_tuple = rotate_tuple_left(original_tuple, 2)\n",
    "print(\"Original tuple:\", original_tuple)\n",
    "print(\"Rotated tuple:\", rotated_tuple)"
   ]
  },
  {
   "cell_type": "markdown",
   "id": "a5e6b197",
   "metadata": {},
   "source": [
    "40. Rotate a tuple to the right by `n` positions."
   ]
  },
  {
   "cell_type": "code",
   "execution_count": 53,
   "id": "842b4b28",
   "metadata": {},
   "outputs": [
    {
     "name": "stdout",
     "output_type": "stream",
     "text": [
      "Original tuple: (1, 2, 3, 4, 5)\n",
      "Rotated tuple: (4, 5, 1, 2, 3)\n"
     ]
    }
   ],
   "source": [
    "def rotate_tuple_right(tpl, n):\n",
    "    n = n % len(tpl)\n",
    "    return tpl[-n:] + tpl[:-n]\n",
    "original_tuple = (1, 2, 3, 4, 5)\n",
    "rotated_tuple = rotate_tuple_right(original_tuple, 2)\n",
    "print(\"Original tuple:\", original_tuple)\n",
    "print(\"Rotated tuple:\", rotated_tuple)"
   ]
  },
  {
   "cell_type": "markdown",
   "id": "63c6c778",
   "metadata": {},
   "source": [
    "41. Create a tuple of the first 5 Fibonacci numbers."
   ]
  },
  {
   "cell_type": "code",
   "execution_count": 54,
   "id": "c6e62b3e",
   "metadata": {},
   "outputs": [
    {
     "name": "stdout",
     "output_type": "stream",
     "text": [
      "Tuple of the first 5 Fibonacci numbers: (0, 1, 1, 2, 3)\n"
     ]
    }
   ],
   "source": [
    "def generate_fibonacci(n):\n",
    "    fib_sequence = []\n",
    "    a, b = 0, 1\n",
    "    for _ in range(n):\n",
    "        fib_sequence.append(a)\n",
    "        a, b = b, a + b\n",
    "    return tuple(fib_sequence)\n",
    "fibonacci_tuple = generate_fibonacci(5)\n",
    "print(\"Tuple of the first 5 Fibonacci numbers:\", fibonacci_tuple)"
   ]
  },
  {
   "cell_type": "markdown",
   "id": "39ba2f1a",
   "metadata": {},
   "source": [
    "42. Create a tuple from user input."
   ]
  },
  {
   "cell_type": "code",
   "execution_count": 55,
   "id": "cec2fd30",
   "metadata": {},
   "outputs": [
    {
     "name": "stdout",
     "output_type": "stream",
     "text": [
      "Tuple created from user input: ('1', '2', '3', '4', '5', '6', '7', '8', '9')\n"
     ]
    }
   ],
   "source": [
    "def create_tuple_from_input():\n",
    "    user_input = input(\"Enter values separated by commas: \")\n",
    "    values = [x.strip() for x in user_input.split(',')]\n",
    "    return tuple(values)\n",
    "user_tuple = create_tuple_from_input()\n",
    "print(\"Tuple created from user input:\", user_tuple)"
   ]
  },
  {
   "cell_type": "markdown",
   "id": "ff21394c",
   "metadata": {},
   "source": [
    "43. Swap two elements in a tuple."
   ]
  },
  {
   "cell_type": "code",
   "execution_count": 56,
   "id": "11fd3f89",
   "metadata": {},
   "outputs": [
    {
     "name": "stdout",
     "output_type": "stream",
     "text": [
      "Original tuple: (1, 2, 3, 4, 5)\n",
      "Swapped tuple: (1, 4, 3, 2, 5)\n"
     ]
    }
   ],
   "source": [
    "def swap_elements_in_tuple(tpl, index1, index2):\n",
    "    tpl_list = list(tpl)\n",
    "    tpl_list[index1], tpl_list[index2] = tpl_list[index2], tpl_list[index1]\n",
    "    return tuple(tpl_list)\n",
    "original_tuple = (1, 2, 3, 4, 5)\n",
    "index1, index2 = 1, 3\n",
    "swapped_tuple = swap_elements_in_tuple(original_tuple, index1, index2)\n",
    "print(\"Original tuple:\", original_tuple)\n",
    "print(\"Swapped tuple:\", swapped_tuple)"
   ]
  },
  {
   "cell_type": "markdown",
   "id": "dc95ba42",
   "metadata": {},
   "source": [
    "44. Reverse the elements of a tuple."
   ]
  },
  {
   "cell_type": "code",
   "execution_count": 57,
   "id": "608bfd48",
   "metadata": {},
   "outputs": [
    {
     "name": "stdout",
     "output_type": "stream",
     "text": [
      "Original tuple: (1, 2, 3, 4, 5)\n",
      "Reversed tuple: (5, 4, 3, 2, 1)\n"
     ]
    }
   ],
   "source": [
    "def reverse_tuple(tpl):\n",
    "    return tpl[::-1]\n",
    "original_tuple = (1, 2, 3, 4, 5)\n",
    "reversed_tuple = reverse_tuple(original_tuple)\n",
    "print(\"Original tuple:\", original_tuple)\n",
    "print(\"Reversed tuple:\", reversed_tuple)"
   ]
  },
  {
   "cell_type": "markdown",
   "id": "3faee879",
   "metadata": {},
   "source": [
    "45. Create a tuple of the first `n` powers of 2."
   ]
  },
  {
   "cell_type": "code",
   "execution_count": 58,
   "id": "9456e7b0",
   "metadata": {},
   "outputs": [
    {
     "name": "stdout",
     "output_type": "stream",
     "text": [
      "Tuple of the first 5 powers of 2: (1, 2, 4, 8, 16)\n"
     ]
    }
   ],
   "source": [
    "def powers_of_2_tuple(n):\n",
    "    return tuple(2**i for i in range(n))\n",
    "n = 5\n",
    "powers_tuple = powers_of_2_tuple(n)\n",
    "print(\"Tuple of the first\", n, \"powers of 2:\", powers_tuple)"
   ]
  },
  {
   "cell_type": "markdown",
   "id": "87dde864",
   "metadata": {},
   "source": [
    "46. Find the longest string in a tuple of strings."
   ]
  },
  {
   "cell_type": "code",
   "execution_count": 59,
   "id": "81dd7198",
   "metadata": {},
   "outputs": [
    {
     "name": "stdout",
     "output_type": "stream",
     "text": [
      "Longest string in the tuple: banana\n"
     ]
    }
   ],
   "source": [
    "def find_longest_string(tpl):\n",
    "    if not tpl:\n",
    "        return None\n",
    "    return max(tpl, key=len)\n",
    "tuple_of_strings = (\"apple\", \"banana\", \"cherry\", \"date\")\n",
    "longest_string = find_longest_string(tuple_of_strings)\n",
    "print(\"Longest string in the tuple:\", longest_string)"
   ]
  },
  {
   "cell_type": "markdown",
   "id": "62427dbc",
   "metadata": {},
   "source": [
    "47. Find the shortest string in a tuple of strings."
   ]
  },
  {
   "cell_type": "code",
   "execution_count": 60,
   "id": "e4da788f",
   "metadata": {},
   "outputs": [
    {
     "name": "stdout",
     "output_type": "stream",
     "text": [
      "Shortest string in the tuple: date\n"
     ]
    }
   ],
   "source": [
    "def find_shortest_string(tpl):\n",
    "    if not tpl:\n",
    "        return None\n",
    "    return min(tpl, key=len)\n",
    "tuple_of_strings = (\"apple\", \"banana\", \"cherry\", \"date\")\n",
    "shortest_string = find_shortest_string(tuple_of_strings)\n",
    "print(\"Shortest string in the tuple:\", shortest_string)"
   ]
  },
  {
   "cell_type": "markdown",
   "id": "5ff6548d",
   "metadata": {},
   "source": [
    "48. Create a tuple of the first `n` triangular numbers."
   ]
  },
  {
   "cell_type": "code",
   "execution_count": 61,
   "id": "204bd965",
   "metadata": {},
   "outputs": [
    {
     "name": "stdout",
     "output_type": "stream",
     "text": [
      "Tuple of the first 5 triangular numbers: (1, 3, 6, 10, 15)\n"
     ]
    }
   ],
   "source": [
    "def triangular_numbers_tuple(n):\n",
    "    return tuple((i * (i + 1)) // 2 for i in range(1, n + 1))\n",
    "n = 5\n",
    "triangular_tuple = triangular_numbers_tuple(n)\n",
    "print(\"Tuple of the first\", n, \"triangular numbers:\", triangular_tuple)"
   ]
  },
  {
   "cell_type": "markdown",
   "id": "9ef46cea",
   "metadata": {},
   "source": [
    "49. Check if a tuple contains another tuple as a subsequence."
   ]
  },
  {
   "cell_type": "code",
   "execution_count": 62,
   "id": "b3646ca8",
   "metadata": {},
   "outputs": [
    {
     "name": "stdout",
     "output_type": "stream",
     "text": [
      "Does the main tuple contain the sub-tuple as a subsequence? True\n"
     ]
    }
   ],
   "source": [
    "def contains_subsequence(main_tuple, sub_tuple):\n",
    "    len_main = len(main_tuple)\n",
    "    len_sub = len(sub_tuple)\n",
    "    if len_sub > len_main:\n",
    "        return False\n",
    "    for i in range(len_main - len_sub + 1):\n",
    "        if main_tuple[i:i + len_sub] == sub_tuple:\n",
    "            return True\n",
    "    return False\n",
    "main_tuple = (1, 2, 3, 4, 5, 6)\n",
    "sub_tuple = (3, 4, 5)\n",
    "print(\"Does the main tuple contain the sub-tuple as a subsequence?\", contains_subsequence(main_tuple, sub_tuple))"
   ]
  },
  {
   "cell_type": "markdown",
   "id": "f1231688",
   "metadata": {},
   "source": [
    "50. Create a tuple of alternating 1s and 0s of length `n`."
   ]
  },
  {
   "cell_type": "code",
   "execution_count": 63,
   "id": "419cdb0d",
   "metadata": {},
   "outputs": [
    {
     "name": "stdout",
     "output_type": "stream",
     "text": [
      "Tuple of alternating 1s and 0s of length 10 : (0, 1, 0, 1, 0, 1, 0, 1, 0, 1)\n"
     ]
    }
   ],
   "source": [
    "def alternating_tuple(n):\n",
    "    return tuple((i % 2) for i in range(n))\n",
    "n = 10\n",
    "result_tuple = alternating_tuple(n)\n",
    "print(\"Tuple of alternating 1s and 0s of length\", n, \":\", result_tuple)"
   ]
  },
  {
   "cell_type": "markdown",
   "id": "2b99384b",
   "metadata": {},
   "source": [
    "# Set Based Practice Problem :"
   ]
  },
  {
   "cell_type": "markdown",
   "id": "170cbf8f",
   "metadata": {},
   "source": [
    "1. Create a set with integers from 1 to 5."
   ]
  },
  {
   "cell_type": "code",
   "execution_count": 16,
   "id": "ca81f4f1",
   "metadata": {},
   "outputs": [
    {
     "name": "stdout",
     "output_type": "stream",
     "text": [
      "1\n",
      "2\n",
      "3\n",
      "4\n",
      "5\n"
     ]
    }
   ],
   "source": [
    "for i in set(range(1,6)):\n",
    "    print(i)"
   ]
  },
  {
   "cell_type": "markdown",
   "id": "bff2f17e",
   "metadata": {},
   "source": [
    "2. Add an element to a set."
   ]
  },
  {
   "cell_type": "code",
   "execution_count": 66,
   "id": "17477c8f",
   "metadata": {},
   "outputs": [
    {
     "name": "stdout",
     "output_type": "stream",
     "text": [
      "Updated set: {1, 2, 3, '6'}\n"
     ]
    }
   ],
   "source": [
    "def add_element_to_set(s, element):\n",
    "    s.add(element)\n",
    "    return s\n",
    "my_set = {1, 2, 3}\n",
    "element_to_add = input(\"Enter the element you want to be add\")\n",
    "updated_set = add_element_to_set(my_set, element_to_add)\n",
    "print(\"Updated set:\", updated_set)\n"
   ]
  },
  {
   "cell_type": "markdown",
   "id": "45a2abda",
   "metadata": {},
   "source": [
    "3. Remove an element from a set."
   ]
  },
  {
   "cell_type": "code",
   "execution_count": 68,
   "id": "173fd65b",
   "metadata": {},
   "outputs": [
    {
     "name": "stdout",
     "output_type": "stream",
     "text": [
      "Updated set after removal: {1, 2, 3, 4}\n"
     ]
    }
   ],
   "source": [
    "def remove_element_from_set(s, element):\n",
    "    if element in s:\n",
    "        s.remove(element)\n",
    "    return s\n",
    "my_set = {1, 2, 3, 4}\n",
    "element_to_remove = input(\"Enter the element you want to be remove\")\n",
    "updated_set = remove_element_from_set(my_set, element_to_remove)\n",
    "print(\"Updated set after removal:\", updated_set)\n"
   ]
  },
  {
   "cell_type": "markdown",
   "id": "c3cd604c",
   "metadata": {},
   "source": [
    "4. Check if an element exists in a set."
   ]
  },
  {
   "cell_type": "code",
   "execution_count": 69,
   "id": "18bd0578",
   "metadata": {},
   "outputs": [
    {
     "name": "stdout",
     "output_type": "stream",
     "text": [
      "Does the element 3 exist in the set? True\n"
     ]
    }
   ],
   "source": [
    "def check_element_in_set(s, element):\n",
    "    return element in s\n",
    "my_set = {1, 2, 3, 4}\n",
    "element_to_check = 3\n",
    "exists = check_element_in_set(my_set, element_to_check)\n",
    "print(f\"Does the element {element_to_check} exist in the set? {exists}\")"
   ]
  },
  {
   "cell_type": "markdown",
   "id": "39bb7fa2",
   "metadata": {},
   "source": [
    "5. Find the length of a set without using the `len()` function."
   ]
  },
  {
   "cell_type": "code",
   "execution_count": 70,
   "id": "57baa708",
   "metadata": {},
   "outputs": [
    {
     "name": "stdout",
     "output_type": "stream",
     "text": [
      "Length of the set: 4\n"
     ]
    }
   ],
   "source": [
    "def length_of_set(s):\n",
    "    count = 0\n",
    "    for _ in s:\n",
    "        count += 1\n",
    "    return count\n",
    "my_set = {1, 2, 3, 4}\n",
    "set_length = length_of_set(my_set)\n",
    "print(\"Length of the set:\", set_length)"
   ]
  },
  {
   "cell_type": "markdown",
   "id": "c153e175",
   "metadata": {},
   "source": [
    "6. Clear all elements from a set."
   ]
  },
  {
   "cell_type": "code",
   "execution_count": 71,
   "id": "3080b229",
   "metadata": {},
   "outputs": [
    {
     "name": "stdout",
     "output_type": "stream",
     "text": [
      "Cleared set: set()\n"
     ]
    }
   ],
   "source": [
    "def clear_set(s):\n",
    "    s.clear()\n",
    "    return s\n",
    "my_set = {1, 2, 3, 4}\n",
    "cleared_set = clear_set(my_set)\n",
    "print(\"Cleared set:\", cleared_set)"
   ]
  },
  {
   "cell_type": "markdown",
   "id": "e9261249",
   "metadata": {},
   "source": [
    "7. Create a set of even numbers from 1 to 10."
   ]
  },
  {
   "cell_type": "code",
   "execution_count": 72,
   "id": "4c7ca00e",
   "metadata": {},
   "outputs": [
    {
     "name": "stdout",
     "output_type": "stream",
     "text": [
      "Set of even numbers from 1 to 10: {2, 4, 6, 8, 10}\n"
     ]
    }
   ],
   "source": [
    "def create_even_set():\n",
    "    return {x for x in range(1, 11) if x % 2 == 0}\n",
    "even_set = create_even_set()\n",
    "print(\"Set of even numbers from 1 to 10:\", even_set)"
   ]
  },
  {
   "cell_type": "markdown",
   "id": "af7a9545",
   "metadata": {},
   "source": [
    "8. Create a set of odd numbers from 1 to 10."
   ]
  },
  {
   "cell_type": "code",
   "execution_count": 73,
   "id": "dd4e089a",
   "metadata": {},
   "outputs": [
    {
     "name": "stdout",
     "output_type": "stream",
     "text": [
      "Set of odd numbers from 1 to 10: {1, 3, 5, 7, 9}\n"
     ]
    }
   ],
   "source": [
    "def create_odd_set():\n",
    "    return {x for x in range(1, 11) if x % 2 != 0}\n",
    "odd_set = create_odd_set()\n",
    "print(\"Set of odd numbers from 1 to 10:\", odd_set)"
   ]
  },
  {
   "cell_type": "markdown",
   "id": "069f68ca",
   "metadata": {},
   "source": [
    "9. Find the union of two sets."
   ]
  },
  {
   "cell_type": "code",
   "execution_count": 77,
   "id": "46ceedfb",
   "metadata": {},
   "outputs": [
    {
     "name": "stdout",
     "output_type": "stream",
     "text": [
      "Union of set1 and set2 using union() method: {1, 2, 3, 4, 5}\n"
     ]
    }
   ],
   "source": [
    "def union_sets_method(set1, set2):\n",
    "    return set1 | set2\n",
    "set1 = {1, 2, 3}\n",
    "set2 = {3, 4, 5}\n",
    "union_set_method = union_sets_method(set1, set2)\n",
    "print(\"Union of set1 and set2 using union() method:\", union_set_method)"
   ]
  },
  {
   "cell_type": "markdown",
   "id": "aee1bde9",
   "metadata": {},
   "source": [
    "10. Find the intersection of two sets."
   ]
  },
  {
   "cell_type": "code",
   "execution_count": 78,
   "id": "87d98d4f",
   "metadata": {},
   "outputs": [
    {
     "name": "stdout",
     "output_type": "stream",
     "text": [
      "Intersection of set1 and set2 using intersection() method: {3}\n"
     ]
    }
   ],
   "source": [
    "def intersection_sets_method(set1, set2):\n",
    "    return set1 & set2\n",
    "set1 = {1, 2, 3}\n",
    "set2 = {3, 4, 5}\n",
    "intersection_set_method = intersection_sets_method(set1, set2)\n",
    "print(\"Intersection of set1 and set2 using intersection() method:\", intersection_set_method)\n"
   ]
  },
  {
   "cell_type": "markdown",
   "id": "9cdbdd5c",
   "metadata": {},
   "source": [
    "11. Find the difference between two sets."
   ]
  },
  {
   "cell_type": "code",
   "execution_count": 79,
   "id": "0b520571",
   "metadata": {},
   "outputs": [
    {
     "name": "stdout",
     "output_type": "stream",
     "text": [
      "Difference between set1 and set2 using difference() method: {1, 2}\n"
     ]
    }
   ],
   "source": [
    "def difference_sets_method(set1, set2):\n",
    "    return set1-set2\n",
    "set1 = {1, 2, 3, 4}\n",
    "set2 = {3, 4, 5}\n",
    "difference_set_method = difference_sets_method(set1, set2)\n",
    "print(\"Difference between set1 and set2 using difference() method:\", difference_set_method)"
   ]
  },
  {
   "cell_type": "markdown",
   "id": "099683db",
   "metadata": {},
   "source": [
    "12. Check if a set is a subset of another set."
   ]
  },
  {
   "cell_type": "code",
   "execution_count": 81,
   "id": "7f6c7267",
   "metadata": {},
   "outputs": [
    {
     "name": "stdout",
     "output_type": "stream",
     "text": [
      "Is set1 a subset of set2? True\n"
     ]
    }
   ],
   "source": [
    "def is_subset(set1, set2):\n",
    "    return set1<=set2\n",
    "set1 = {1, 2}\n",
    "set2 = {1, 2, 3, 4, 5}\n",
    "subset_check = is_subset(set1, set2)\n",
    "print(\"Is set1 a subset of set2?\", subset_check)"
   ]
  },
  {
   "cell_type": "markdown",
   "id": "8049400b",
   "metadata": {},
   "source": [
    "13. Check if a set is a superset of another set."
   ]
  },
  {
   "cell_type": "code",
   "execution_count": 82,
   "id": "288ef4cb",
   "metadata": {},
   "outputs": [
    {
     "name": "stdout",
     "output_type": "stream",
     "text": [
      "Is set1 a superset of set2? True\n"
     ]
    }
   ],
   "source": [
    "def is_superset(set1, set2):\n",
    "    return set1 >= set2\n",
    "set1 = {1, 2, 3, 4}\n",
    "set2 = {2, 3}\n",
    "superset_check = is_superset(set1, set2)\n",
    "print(\"Is set1 a superset of set2?\", superset_check)"
   ]
  },
  {
   "cell_type": "markdown",
   "id": "4f8a8a3d",
   "metadata": {},
   "source": [
    "14. Create a set from a list."
   ]
  },
  {
   "cell_type": "code",
   "execution_count": 83,
   "id": "1ca1f5bd",
   "metadata": {},
   "outputs": [
    {
     "name": "stdout",
     "output_type": "stream",
     "text": [
      "Set created from the list: {1, 2, 3, 4}\n"
     ]
    }
   ],
   "source": [
    "def list_to_set(lst):\n",
    "    return set(lst)\n",
    "my_list = [1, 2, 3, 4, 2, 1]\n",
    "my_set = list_to_set(my_list)\n",
    "print(\"Set created from the list:\", my_set)"
   ]
  },
  {
   "cell_type": "markdown",
   "id": "c3efa276",
   "metadata": {},
   "source": [
    "15. Convert a set to a list."
   ]
  },
  {
   "cell_type": "code",
   "execution_count": 84,
   "id": "26c34d54",
   "metadata": {},
   "outputs": [
    {
     "name": "stdout",
     "output_type": "stream",
     "text": [
      "List created from the set: [1, 2, 3, 4]\n"
     ]
    }
   ],
   "source": [
    "def set_to_list(s):\n",
    "    return list(s)\n",
    "my_set = {1, 2, 3, 4}\n",
    "my_list = set_to_list(my_set)\n",
    "print(\"List created from the set:\", my_list)"
   ]
  },
  {
   "cell_type": "markdown",
   "id": "36eca976",
   "metadata": {},
   "source": [
    "16. Remove a random element from a set."
   ]
  },
  {
   "cell_type": "code",
   "execution_count": 85,
   "id": "b35c4ab1",
   "metadata": {},
   "outputs": [
    {
     "name": "stdout",
     "output_type": "stream",
     "text": [
      "Removed element: 1\n",
      "Set after removal: {2, 3, 4}\n"
     ]
    }
   ],
   "source": [
    "import random\n",
    "\n",
    "def remove_random_element(s):\n",
    "    if not s:\n",
    "        raise ValueError(\"Set is empty, cannot remove an element.\")\n",
    "    return s.pop()\n",
    "my_set = {1, 2, 3, 4}\n",
    "removed_element = remove_random_element(my_set)\n",
    "print(\"Removed element:\", removed_element)\n",
    "print(\"Set after removal:\", my_set)"
   ]
  },
  {
   "cell_type": "markdown",
   "id": "7b3e0dec",
   "metadata": {},
   "source": [
    "17. Pop an element from a set."
   ]
  },
  {
   "cell_type": "code",
   "execution_count": 86,
   "id": "6b92b8eb",
   "metadata": {},
   "outputs": [
    {
     "name": "stdout",
     "output_type": "stream",
     "text": [
      "Popped element: 1\n",
      "Set after popping: {2, 3, 4}\n"
     ]
    }
   ],
   "source": [
    "def pop_element(s):\n",
    "    if not s:\n",
    "        raise ValueError(\"Set is empty, cannot pop an element.\")\n",
    "    return s.pop()\n",
    "my_set = {1, 2, 3, 4}\n",
    "popped_element = pop_element(my_set)\n",
    "print(\"Popped element:\", popped_element)\n",
    "print(\"Set after popping:\", my_set)"
   ]
  },
  {
   "cell_type": "markdown",
   "id": "94d3539a",
   "metadata": {},
   "source": [
    "18. Check if two sets have no elements in common."
   ]
  },
  {
   "cell_type": "code",
   "execution_count": 87,
   "id": "dc053258",
   "metadata": {},
   "outputs": [
    {
     "name": "stdout",
     "output_type": "stream",
     "text": [
      "Do set1 and set2 have no elements in common? True\n"
     ]
    }
   ],
   "source": [
    "def no_common_elements(set1, set2):\n",
    "    return not (set1 & set2)\n",
    "set1 = {1, 2, 3}\n",
    "set2 = {4, 5, 6}\n",
    "no_common = no_common_elements(set1, set2)\n",
    "print(\"Do set1 and set2 have no elements in common?\", no_common)"
   ]
  },
  {
   "cell_type": "markdown",
   "id": "304a85c2",
   "metadata": {},
   "source": [
    "19. Find the symmetric difference between two sets."
   ]
  },
  {
   "cell_type": "code",
   "execution_count": 88,
   "id": "fe5185dc",
   "metadata": {},
   "outputs": [
    {
     "name": "stdout",
     "output_type": "stream",
     "text": [
      "Symmetric difference: {1, 2, 5, 6}\n"
     ]
    }
   ],
   "source": [
    "def symmetric_difference(set1, set2):\n",
    "    return set1 ^ set2\n",
    "set1 = {1, 2, 3, 4}\n",
    "set2 = {3, 4, 5, 6}\n",
    "sym_diff = symmetric_difference(set1, set2)\n",
    "print(\"Symmetric difference:\", sym_diff)"
   ]
  },
  {
   "cell_type": "markdown",
   "id": "af59aa7e",
   "metadata": {},
   "source": [
    "20. Update a set with elements from another set."
   ]
  },
  {
   "cell_type": "code",
   "execution_count": 89,
   "id": "8c436dd2",
   "metadata": {},
   "outputs": [
    {
     "name": "stdout",
     "output_type": "stream",
     "text": [
      "Updated set: {1, 2, 3, 4, 5}\n"
     ]
    }
   ],
   "source": [
    "def update_set(original_set, new_elements):\n",
    "    original_set.update(new_elements)\n",
    "original_set = {1, 2, 3}\n",
    "new_elements = {3, 4, 5}\n",
    "update_set(original_set, new_elements)\n",
    "print(\"Updated set:\", original_set)"
   ]
  },
  {
   "cell_type": "markdown",
   "id": "107438bc",
   "metadata": {},
   "source": [
    "21. Create a set of the first 5 prime numbers."
   ]
  },
  {
   "cell_type": "code",
   "execution_count": 90,
   "id": "99d1d35d",
   "metadata": {},
   "outputs": [
    {
     "name": "stdout",
     "output_type": "stream",
     "text": [
      "Set of the first 5 prime numbers: {2, 3, 5, 7, 11}\n"
     ]
    }
   ],
   "source": [
    "def first_n_primes(n):\n",
    "    primes = []\n",
    "    num = 2  # Start checking for primes from 2\n",
    "    while len(primes) < n:\n",
    "        is_prime = True\n",
    "        for i in range(2, int(num**0.5) + 1):\n",
    "            if num % i == 0:\n",
    "                is_prime = False\n",
    "                break\n",
    "        if is_prime:\n",
    "            primes.append(num)\n",
    "        num += 1\n",
    "    return set(primes)\n",
    "first_5_primes = first_n_primes(5)\n",
    "print(\"Set of the first 5 prime numbers:\", first_5_primes)"
   ]
  },
  {
   "cell_type": "markdown",
   "id": "ba9b87ba",
   "metadata": {},
   "source": [
    "22. Check if two sets are identical."
   ]
  },
  {
   "cell_type": "code",
   "execution_count": 91,
   "id": "8a79c953",
   "metadata": {},
   "outputs": [
    {
     "name": "stdout",
     "output_type": "stream",
     "text": [
      "Are set1 and set2 identical? True\n",
      "Are set1 and set3 identical? False\n"
     ]
    }
   ],
   "source": [
    "def are_sets_identical(set1, set2):\n",
    "    return set1 == set2\n",
    "set1 = {1, 2, 3, 4}\n",
    "set2 = {4, 3, 2, 1}\n",
    "set3 = {1, 2, 3}\n",
    "identical_1_2 = are_sets_identical(set1, set2)\n",
    "identical_1_3 = are_sets_identical(set1, set3)\n",
    "print(\"Are set1 and set2 identical?\", identical_1_2)\n",
    "print(\"Are set1 and set3 identical?\", identical_1_3)"
   ]
  },
  {
   "cell_type": "markdown",
   "id": "00246139",
   "metadata": {},
   "source": [
    "23. Create a frozen set."
   ]
  },
  {
   "cell_type": "code",
   "execution_count": 92,
   "id": "8f0d94c0",
   "metadata": {},
   "outputs": [
    {
     "name": "stdout",
     "output_type": "stream",
     "text": [
      "Frozenset created from the list: frozenset({1, 2, 3, 4})\n"
     ]
    }
   ],
   "source": [
    "def create_frozenset(iterable):\n",
    "    return frozenset(iterable)\n",
    "my_list = [1, 2, 3, 4, 4, 3, 2, 1]\n",
    "my_frozenset = create_frozenset(my_list)\n",
    "print(\"Frozenset created from the list:\", my_frozenset)"
   ]
  },
  {
   "cell_type": "markdown",
   "id": "27236d1b",
   "metadata": {},
   "source": [
    "24. Check if a set is disjoint with another set."
   ]
  },
  {
   "cell_type": "code",
   "execution_count": 93,
   "id": "29272054",
   "metadata": {},
   "outputs": [
    {
     "name": "stdout",
     "output_type": "stream",
     "text": [
      "Are set1 and set2 disjoint? True\n",
      "Are set1 and set3 disjoint? False\n"
     ]
    }
   ],
   "source": [
    "def are_disjoint(set1, set2):\n",
    "    return set1.isdisjoint(set2)\n",
    "set1 = {1, 2, 3}\n",
    "set2 = {4, 5, 6}\n",
    "set\n",
    "disjoint_1_2 = are_disjoint(set1, set2)\n",
    "disjoint_1_3 = are_disjoint(set1, set3)\n",
    "print(\"Are set1 and set2 disjoint?\", disjoint_1_2)\n",
    "print(\"Are set1 and set3 disjoint?\", disjoint_1_3)"
   ]
  },
  {
   "cell_type": "markdown",
   "id": "9ac26f22",
   "metadata": {},
   "source": [
    "25. Create a set of squares of numbers from 1 to 5."
   ]
  },
  {
   "cell_type": "code",
   "execution_count": 94,
   "id": "098a27e6",
   "metadata": {},
   "outputs": [
    {
     "name": "stdout",
     "output_type": "stream",
     "text": [
      "Set of squares from 1 to 5: {1, 4, 9, 16, 25}\n"
     ]
    }
   ],
   "source": [
    "def squares_set(n):\n",
    "    return {x**2 for x in range(1, n+1)}\n",
    "squares = squares_set(5)\n",
    "print(\"Set of squares from 1 to 5:\", squares)"
   ]
  },
  {
   "cell_type": "markdown",
   "id": "edd8dd04",
   "metadata": {},
   "source": [
    "26. Filter out all even numbers from a set."
   ]
  },
  {
   "cell_type": "code",
   "execution_count": 95,
   "id": "7e48a0a2",
   "metadata": {},
   "outputs": [
    {
     "name": "stdout",
     "output_type": "stream",
     "text": [
      "Original set: {1, 2, 3, 4, 5, 6, 7}\n",
      "Set with even numbers filtered out: {1, 3, 5, 7}\n"
     ]
    }
   ],
   "source": [
    "def filter_out_even_numbers(input_set):\n",
    "    return {x for x in input_set if x % 2 != 0}\n",
    "original_set = {1, 2, 3, 4, 5, 6, 7}\n",
    "filtered_set = filter_out_even_numbers(original_set)\n",
    "print(\"Original set:\", original_set)\n",
    "print(\"Set with even numbers filtered out:\", filtered_set)"
   ]
  },
  {
   "cell_type": "markdown",
   "id": "a6186e74",
   "metadata": {},
   "source": [
    "27. Multiply all elements in a set by 2."
   ]
  },
  {
   "cell_type": "code",
   "execution_count": 96,
   "id": "cf206216",
   "metadata": {},
   "outputs": [
    {
     "name": "stdout",
     "output_type": "stream",
     "text": [
      "Original set: {1, 2, 3, 4, 5}\n",
      "Set with elements multiplied by 2: {2, 4, 6, 8, 10}\n"
     ]
    }
   ],
   "source": [
    "def multiply_elements_by_2(input_set):\n",
    "    return {x * 2 for x in input_set}\n",
    "original_set = {1, 2, 3, 4, 5}\n",
    "multiplied_set = multiply_elements_by_2(original_set)\n",
    "print(\"Original set:\", original_set)\n",
    "print(\"Set with elements multiplied by 2:\", multiplied_set)"
   ]
  },
  {
   "cell_type": "markdown",
   "id": "d6450e2a",
   "metadata": {},
   "source": [
    "28. Create a set of random numbers."
   ]
  },
  {
   "cell_type": "code",
   "execution_count": 97,
   "id": "220674df",
   "metadata": {},
   "outputs": [
    {
     "name": "stdout",
     "output_type": "stream",
     "text": [
      "Set of random numbers: {7, 39, 74, 13, 51, 53, 56, 57, 31}\n"
     ]
    }
   ],
   "source": [
    "import random\n",
    "\n",
    "def create_random_set(size, lower_bound, upper_bound):\n",
    "    return {random.randint(lower_bound, upper_bound) for _ in range(size)}\n",
    "size = 10\n",
    "lower_bound = 1\n",
    "upper_bound = 100\n",
    "random_set = create_random_set(size, lower_bound, upper_bound)\n",
    "print(\"Set of random numbers:\", random_set)"
   ]
  },
  {
   "cell_type": "markdown",
   "id": "5a8768b5",
   "metadata": {},
   "source": [
    "29. Check if a set is empty."
   ]
  },
  {
   "cell_type": "code",
   "execution_count": 98,
   "id": "d2358526",
   "metadata": {},
   "outputs": [
    {
     "name": "stdout",
     "output_type": "stream",
     "text": [
      "Is the empty_set empty? True\n",
      "Is the non_empty_set empty? False\n"
     ]
    }
   ],
   "source": [
    "def is_empty(input_set):\n",
    "    return len(input_set) == 0\n",
    "empty_set = set()\n",
    "non_empty_set = {1, 2, 3}\n",
    "print(\"Is the empty_set empty?\", is_empty(empty_set))\n",
    "print(\"Is the non_empty_set empty?\", is_empty(non_empty_set))"
   ]
  },
  {
   "cell_type": "markdown",
   "id": "825ffd89",
   "metadata": {},
   "source": [
    "30. Create a nested set (hint: use frozenset)."
   ]
  },
  {
   "cell_type": "code",
   "execution_count": 99,
   "id": "da8e7d89",
   "metadata": {},
   "outputs": [
    {
     "name": "stdout",
     "output_type": "stream",
     "text": [
      "Nested set: frozenset({frozenset({1, 2, 3}), frozenset({4, 5, 6})})\n"
     ]
    }
   ],
   "source": [
    "def create_nested_set():\n",
    "    inner_set1 = frozenset({1, 2, 3})\n",
    "    inner_set2 = frozenset({4, 5, 6})\n",
    "    nested_set = frozenset({inner_set1, inner_set2})\n",
    "    return nested_set\n",
    "nested_set = create_nested_set()\n",
    "print(\"Nested set:\", nested_set)"
   ]
  },
  {
   "cell_type": "markdown",
   "id": "2f04958c",
   "metadata": {},
   "source": [
    "31. Remove an element from a set using the discard method."
   ]
  },
  {
   "cell_type": "code",
   "execution_count": 100,
   "id": "561a1885",
   "metadata": {},
   "outputs": [
    {
     "name": "stdout",
     "output_type": "stream",
     "text": [
      "Updated set: {1, 2, 4, 5}\n",
      "Updated set after removing non-existing element: {1, 2, 4, 5}\n"
     ]
    }
   ],
   "source": [
    "def remove_element_from_set(input_set, element):\n",
    "    input_set.discard(element)\n",
    "    return input_set\n",
    "my_set = {1, 2, 3, 4, 5}\n",
    "element_to_remove = 3\n",
    "updated_set = remove_element_from_set(my_set, element_to_remove)\n",
    "print(\"Updated set:\", updated_set)\n",
    "element_to_remove = 10\n",
    "updated_set = remove_element_from_set(my_set, element_to_remove)\n",
    "print(\"Updated set after removing non-existing element:\", updated_set)"
   ]
  },
  {
   "cell_type": "markdown",
   "id": "2f161194",
   "metadata": {},
   "source": [
    "32. Compare two sets."
   ]
  },
  {
   "cell_type": "code",
   "execution_count": null,
   "id": "4b6d360a",
   "metadata": {},
   "outputs": [],
   "source": [
    "def compare_sets(set1, set2):\n",
    "    return {\n",
    "        'equal': set1 == set2,\n",
    "        'subset': set1.issubset(set2),\n",
    "        'superset': set1.issuperset(set2),\n",
    "        'disjoint': set1.isdisjoint(set2)\n",
    "    }\n",
    "set1 = {1, 2, 3, 4}\n",
    "set2 = {3, 4, 5, 6}\n",
    "set3 = {1, 2, 3, 4}\n",
    "comparison1_2 = compare_sets(set1, set2)\n",
    "comparison1_3 = compare_sets(set1, set3)\n",
    "print(\"Comparison between set1 and set2:\", comparison1_2)\n",
    "print(\"Comparison between set1 and set3:\", comparison1_3)\n"
   ]
  },
  {
   "cell_type": "markdown",
   "id": "22d1c361",
   "metadata": {},
   "source": [
    "33. Create a set from a string."
   ]
  },
  {
   "cell_type": "code",
   "execution_count": 101,
   "id": "e93ec721",
   "metadata": {},
   "outputs": [
    {
     "name": "stdout",
     "output_type": "stream",
     "text": [
      "Original string: hello world\n",
      "Set of unique characters: {'w', 'l', 'r', 'h', 'o', 'd', ' ', 'e'}\n"
     ]
    }
   ],
   "source": [
    "def create_set_from_string(s):\n",
    "    return set(s)\n",
    "string = \"hello world\"\n",
    "unique_characters = create_set_from_string(string)\n",
    "print(\"Original string:\", string)\n",
    "print(\"Set of unique characters:\", unique_characters)"
   ]
  },
  {
   "cell_type": "markdown",
   "id": "b81cdab1",
   "metadata": {},
   "source": [
    "34. Convert a set of strings to a set of integers."
   ]
  },
  {
   "cell_type": "code",
   "execution_count": 102,
   "id": "e1b03290",
   "metadata": {},
   "outputs": [
    {
     "name": "stdout",
     "output_type": "stream",
     "text": [
      "Set of strings: {'10', '20', '1', '3', '2'}\n",
      "Set of integers: {1, 2, 3, 10, 20}\n"
     ]
    }
   ],
   "source": [
    "def convert_set_of_strings_to_integers(string_set):\n",
    "    return {int(s) for s in string_set}\n",
    "string_set = {'1', '2', '3', '10', '20'}\n",
    "integer_set = convert_set_of_strings_to_integers(string_set)\n",
    "print(\"Set of strings:\", string_set)\n",
    "print(\"Set of integers:\", integer_set)"
   ]
  },
  {
   "cell_type": "markdown",
   "id": "2a074438",
   "metadata": {},
   "source": [
    "35. Convert a set of integers to a set of strings."
   ]
  },
  {
   "cell_type": "code",
   "execution_count": 103,
   "id": "bf01bf6c",
   "metadata": {},
   "outputs": [
    {
     "name": "stdout",
     "output_type": "stream",
     "text": [
      "Set of integers: {1, 2, 3, 20, 10}\n",
      "Set of strings: {'10', '1', '2', '20', '3'}\n"
     ]
    }
   ],
   "source": [
    "def convert_set_of_integers_to_strings(integer_set):\n",
    "    return {str(i) for i in integer_set}\n",
    "integer_set = {1, 2, 3, 10, 20}\n",
    "string_set = convert_set_of_integers_to_strings(integer_set)\n",
    "print(\"Set of integers:\", integer_set)\n",
    "print(\"Set of strings:\", string_set)"
   ]
  },
  {
   "cell_type": "markdown",
   "id": "0ba520a8",
   "metadata": {},
   "source": [
    "36. Create a set from a tuple."
   ]
  },
  {
   "cell_type": "code",
   "execution_count": 104,
   "id": "1f54dcc6",
   "metadata": {},
   "outputs": [
    {
     "name": "stdout",
     "output_type": "stream",
     "text": [
      "Original tuple: (1, 2, 3, 4, 2, 3, 5)\n",
      "Set created from tuple: {1, 2, 3, 4, 5}\n"
     ]
    }
   ],
   "source": [
    "def create_set_from_tuple(t):\n",
    "    return set(t)\n",
    "tuple_data = (1, 2, 3, 4, 2, 3, 5)\n",
    "set_from_tuple = create_set_from_tuple(tuple_data)\n",
    "print(\"Original tuple:\", tuple_data)\n",
    "print(\"Set created from tuple:\", set_from_tuple)"
   ]
  },
  {
   "cell_type": "markdown",
   "id": "a53a2dbb",
   "metadata": {},
   "source": [
    "37. Convert a set to a tuple."
   ]
  },
  {
   "cell_type": "code",
   "execution_count": 105,
   "id": "4270f202",
   "metadata": {},
   "outputs": [
    {
     "name": "stdout",
     "output_type": "stream",
     "text": [
      "Original set: {1, 2, 3, 4, 5}\n",
      "Tuple created from set: (1, 2, 3, 4, 5)\n"
     ]
    }
   ],
   "source": [
    "def convert_set_to_tuple(s):\n",
    "    return tuple(s)\n",
    "my_set = {1, 2, 3, 4, 5}\n",
    "tuple_from_set = convert_set_to_tuple(my_set)\n",
    "print(\"Original set:\", my_set)\n",
    "print(\"Tuple created from set:\", tuple_from_set)"
   ]
  },
  {
   "cell_type": "markdown",
   "id": "f89bb978",
   "metadata": {},
   "source": [
    "38. Find the maximum value in a set."
   ]
  },
  {
   "cell_type": "code",
   "execution_count": 106,
   "id": "763942ff",
   "metadata": {},
   "outputs": [
    {
     "name": "stdout",
     "output_type": "stream",
     "text": [
      "Set: {1, 2, 3, 5, 9}\n",
      "Maximum value: 9\n"
     ]
    }
   ],
   "source": [
    "def find_max_value(s):\n",
    "    if not s:\n",
    "        return None\n",
    "    return max(s)\n",
    "my_set = {1, 5, 3, 9, 2}\n",
    "max_value = find_max_value(my_set)\n",
    "print(\"Set:\", my_set)\n",
    "print(\"Maximum value:\", max_value)"
   ]
  },
  {
   "cell_type": "markdown",
   "id": "940ff400",
   "metadata": {},
   "source": [
    "39. Find the minimum value in a set."
   ]
  },
  {
   "cell_type": "code",
   "execution_count": 107,
   "id": "fd4f06bc",
   "metadata": {},
   "outputs": [
    {
     "name": "stdout",
     "output_type": "stream",
     "text": [
      "Set: {1, 2, 3, 5, 9}\n",
      "Minimum value: 1\n"
     ]
    }
   ],
   "source": [
    "def find_min_value(s):\n",
    "    if not s:\n",
    "        return None\n",
    "    return min(s)\n",
    "my_set = {1, 5, 3, 9, 2}\n",
    "min_value = find_min_value(my_set)\n",
    "print(\"Set:\", my_set)\n",
    "print(\"Minimum value:\", min_value)"
   ]
  },
  {
   "cell_type": "markdown",
   "id": "96d3b646",
   "metadata": {},
   "source": [
    "40. Create a set from user input."
   ]
  },
  {
   "cell_type": "code",
   "execution_count": 108,
   "id": "fba01579",
   "metadata": {},
   "outputs": [
    {
     "name": "stdout",
     "output_type": "stream",
     "text": [
      "Set created from user input: {'1,2,3,4,5,6,7'}\n"
     ]
    }
   ],
   "source": [
    "def create_set_from_user_input():\n",
    "    user_input = input(\"Enter values separated by spaces: \")\n",
    "    elements = user_input.split() \n",
    "    result_set = set(elements)\n",
    "    return result_set\n",
    "user_set = create_set_from_user_input()\n",
    "print(\"Set created from user input:\", user_set)"
   ]
  },
  {
   "cell_type": "markdown",
   "id": "89fe26b5",
   "metadata": {},
   "source": [
    "41. Check if the intersection of two sets is empty."
   ]
  },
  {
   "cell_type": "code",
   "execution_count": 109,
   "id": "38a1d40f",
   "metadata": {},
   "outputs": [
    {
     "name": "stdout",
     "output_type": "stream",
     "text": [
      "Is intersection of set1 and set2 empty? True\n",
      "Is intersection of set1 and set3 empty? False\n"
     ]
    }
   ],
   "source": [
    "def is_intersection_empty(set1, set2):\n",
    "    return not (set1 & set2)\n",
    "set1 = {1, 2, 3}\n",
    "set2 = {4, 5, 6}\n",
    "set3 = {3, 7, 8}\n",
    "print(\"Is intersection of set1 and set2 empty?\", is_intersection_empty(set1, set2))\n",
    "print(\"Is intersection of set1 and set3 empty?\", is_intersection_empty(set1, set3))"
   ]
  },
  {
   "cell_type": "markdown",
   "id": "baf6c499",
   "metadata": {},
   "source": [
    "42. Create a set of the first 5 Fibonacci numbers."
   ]
  },
  {
   "cell_type": "code",
   "execution_count": 110,
   "id": "bf2f97ce",
   "metadata": {},
   "outputs": [
    {
     "name": "stdout",
     "output_type": "stream",
     "text": [
      "Set of the first 5 Fibonacci numbers: {0, 1, 2, 3}\n"
     ]
    }
   ],
   "source": [
    "def generate_fibonacci(n):\n",
    "    fibonacci_numbers = []\n",
    "    a, b = 0, 1\n",
    "    while len(fibonacci_numbers) < n:\n",
    "        fibonacci_numbers.append(a)\n",
    "        a, b = b, a + b\n",
    "    return fibonacci_numbers\n",
    "\n",
    "def create_fibonacci_set(n):\n",
    "    fibonacci_numbers = generate_fibonacci(n)\n",
    "    return set(fibonacci_numbers)\n",
    "fibonacci_set = create_fibonacci_set(5)\n",
    "print(\"Set of the first 5 Fibonacci numbers:\", fibonacci_set)"
   ]
  },
  {
   "cell_type": "markdown",
   "id": "8d6f65da",
   "metadata": {},
   "source": [
    "43. Remove duplicates from a list using sets."
   ]
  },
  {
   "cell_type": "code",
   "execution_count": 111,
   "id": "a9186263",
   "metadata": {},
   "outputs": [
    {
     "name": "stdout",
     "output_type": "stream",
     "text": [
      "Original list: [1, 2, 2, 3, 4, 4, 5]\n",
      "List after removing duplicates: [1, 2, 3, 4, 5]\n"
     ]
    }
   ],
   "source": [
    "def remove_duplicates(lst):\n",
    "    return list(set(lst))\n",
    "original_list = [1, 2, 2, 3, 4, 4, 5]\n",
    "unique_list = remove_duplicates(original_list)\n",
    "print(\"Original list:\", original_list)\n",
    "print(\"List after removing duplicates:\", unique_list)"
   ]
  },
  {
   "cell_type": "markdown",
   "id": "acbaa5d2",
   "metadata": {},
   "source": [
    "44. Check if two sets have the same elements, regardless of their count."
   ]
  },
  {
   "cell_type": "code",
   "execution_count": 112,
   "id": "64e1a801",
   "metadata": {},
   "outputs": [
    {
     "name": "stdout",
     "output_type": "stream",
     "text": [
      "Do set1 and set2 have the same elements? True\n",
      "Do set1 and set3 have the same elements? True\n"
     ]
    }
   ],
   "source": [
    "def sets_have_same_elements(set1, set2):\n",
    "    return set1 == set2\n",
    "set1 = {1, 2, 3, 4}\n",
    "set2 = {4, 3, 2, 1}\n",
    "set3 = {1, 2, 2, 3, 4}\n",
    "print(\"Do set1 and set2 have the same elements?\", sets_have_same_elements(set1, set2))\n",
    "print(\"Do set1 and set3 have the same elements?\", sets_have_same_elements(set1, set3))"
   ]
  },
  {
   "cell_type": "markdown",
   "id": "145cad77",
   "metadata": {},
   "source": [
    "45. Create a set of the first `n` powers of 2."
   ]
  },
  {
   "cell_type": "code",
   "execution_count": 113,
   "id": "32e860e2",
   "metadata": {},
   "outputs": [
    {
     "name": "stdout",
     "output_type": "stream",
     "text": [
      "Set of the first 5 powers of 2: {1, 2, 4, 8, 16}\n"
     ]
    }
   ],
   "source": [
    "def powers_of_two(n):\n",
    "    return {2**i for i in range(n)}\n",
    "n = 5\n",
    "powers_set = powers_of_two(n)\n",
    "print(\"Set of the first {} powers of 2:\".format(n), powers_set)"
   ]
  },
  {
   "cell_type": "markdown",
   "id": "58a44afb",
   "metadata": {},
   "source": [
    "46. Find the common elements between a set and a list."
   ]
  },
  {
   "cell_type": "code",
   "execution_count": 114,
   "id": "c11cce05",
   "metadata": {},
   "outputs": [
    {
     "name": "stdout",
     "output_type": "stream",
     "text": [
      "Common elements between the set and the list: {3, 4}\n"
     ]
    }
   ],
   "source": [
    "def common_elements(set1, lst):\n",
    "    set2 = set(lst)\n",
    "    return set1 & set2\n",
    "set1 = {1, 2, 3, 4}\n",
    "lst = [3, 4, 5, 6]\n",
    "common_set = common_elements(set1, lst)\n",
    "print(\"Common elements between the set and the list:\", common_set)"
   ]
  },
  {
   "cell_type": "markdown",
   "id": "69315386",
   "metadata": {},
   "source": [
    "47. Create a set of the first `n` triangular numbers."
   ]
  },
  {
   "cell_type": "code",
   "execution_count": 115,
   "id": "aca677d6",
   "metadata": {},
   "outputs": [
    {
     "name": "stdout",
     "output_type": "stream",
     "text": [
      "Set of the first 5 triangular numbers: {1, 3, 6, 10, 15}\n"
     ]
    }
   ],
   "source": [
    "def triangular_numbers(n):\n",
    "    return {i * (i + 1) // 2 for i in range(1, n + 1)}\n",
    "n = 5\n",
    "triangular_set = triangular_numbers(n)\n",
    "print(\"Set of the first {} triangular numbers:\".format(n), triangular_set)"
   ]
  },
  {
   "cell_type": "markdown",
   "id": "d1ccb33f",
   "metadata": {},
   "source": [
    "48. Check if a set contains another set as a subset."
   ]
  },
  {
   "cell_type": "code",
   "execution_count": 116,
   "id": "0687b034",
   "metadata": {},
   "outputs": [
    {
     "name": "stdout",
     "output_type": "stream",
     "text": [
      "Is set1 a subset of set2? True\n",
      "Is set3 a subset of set2? False\n"
     ]
    }
   ],
   "source": [
    "def is_subset(set1, set2):\n",
    "    return set1.issubset(set2)\n",
    "set1 = {1, 2, 3}\n",
    "set2 = {1, 2, 3, 4, 5}\n",
    "set3 = {1, 2, 6}\n",
    "print(\"Is set1 a subset of set2?\", is_subset(set1, set2))\n",
    "print(\"Is set3 a subset of set2?\", is_subset(set3, set2))"
   ]
  },
  {
   "cell_type": "markdown",
   "id": "ba687fd2",
   "metadata": {},
   "source": [
    "49. Create a set of alternating 1s and 0s of length `n`."
   ]
  },
  {
   "cell_type": "code",
   "execution_count": 117,
   "id": "233bc3e1",
   "metadata": {},
   "outputs": [
    {
     "name": "stdout",
     "output_type": "stream",
     "text": [
      "Set of alternating 1s and 0s of length 10: {0, 1}\n"
     ]
    }
   ],
   "source": [
    "def alternating_set(n):\n",
    "    return {0, 1} if n > 0 else set()\n",
    "n = 10\n",
    "alt_set = alternating_set(n)\n",
    "print(\"Set of alternating 1s and 0s of length {}:\".format(n), alt_set)"
   ]
  },
  {
   "cell_type": "markdown",
   "id": "1e4226cb",
   "metadata": {},
   "source": [
    "50. Merge multiple sets into one."
   ]
  },
  {
   "cell_type": "code",
   "execution_count": 118,
   "id": "5f8d33a0",
   "metadata": {},
   "outputs": [
    {
     "name": "stdout",
     "output_type": "stream",
     "text": [
      "Merged set: {1, 2, 3, 4, 5, 6, 7}\n"
     ]
    }
   ],
   "source": [
    "def merge_sets(*sets):\n",
    "    merged_set = set()\n",
    "    for s in sets:\n",
    "        merged_set |= s\n",
    "    return merged_set\n",
    "set1 = {1, 2, 3}\n",
    "set2 = {3, 4, 5}\n",
    "set3 = {5, 6, 7}\n",
    "merged_set = merge_sets(set1, set2, set3)\n",
    "print(\"Merged set:\", merged_set)"
   ]
  }
 ],
 "metadata": {
  "kernelspec": {
   "display_name": "Python 3 (ipykernel)",
   "language": "python",
   "name": "python3"
  },
  "language_info": {
   "codemirror_mode": {
    "name": "ipython",
    "version": 3
   },
   "file_extension": ".py",
   "mimetype": "text/x-python",
   "name": "python",
   "nbconvert_exporter": "python",
   "pygments_lexer": "ipython3",
   "version": "3.11.3"
  }
 },
 "nbformat": 4,
 "nbformat_minor": 5
}
